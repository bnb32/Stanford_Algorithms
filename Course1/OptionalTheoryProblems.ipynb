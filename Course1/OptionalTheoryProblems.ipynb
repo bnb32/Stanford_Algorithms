{
 "cells": [
  {
   "cell_type": "code",
   "execution_count": 39,
   "id": "3591467e-ac29-4c36-b0af-8a90a0de6a82",
   "metadata": {},
   "outputs": [],
   "source": [
    "import numpy as np"
   ]
  },
  {
   "cell_type": "markdown",
   "id": "3f4dfc41-a14c-46d0-8840-a9c0509c61c6",
   "metadata": {},
   "source": [
    "**You are given as input an unsorted array of n distinct numbers, where n is a power of 2. Give an algorithm that identifies the second-largest number in the array, and that uses at most n + log_2 n - 2 comparisons.**"
   ]
  },
  {
   "cell_type": "code",
   "execution_count": null,
   "id": "fcdd796e-d4c0-49b1-9d07-44ac143f9bc0",
   "metadata": {},
   "outputs": [],
   "source": []
  },
  {
   "cell_type": "markdown",
   "id": "ee04e2ef-2c97-496c-97c7-6a38a50bbd7c",
   "metadata": {},
   "source": [
    "**You are a given a unimodal array of n distinct elements, meaning that its entries are in increasing order up until its maximum element, after which its elements are in decreasing order. Give an algorithm to compute the maximum element that runs in O(log n) time.**"
   ]
  },
  {
   "cell_type": "code",
   "execution_count": 592,
   "id": "7e0ac4ad-c2c8-4d6a-9d7b-9f6506720288",
   "metadata": {},
   "outputs": [],
   "source": [
    "def binarySearchMax(a):    \n",
    "\n",
    "    if len(a)==2:\n",
    "        if a[0]>a[1]: \n",
    "            return a[0]\n",
    "        else: \n",
    "            return a[1]\n",
    "\n",
    "    left = a[:len(a)//2]\n",
    "    right = a[len(a)//2:]\n",
    "    \n",
    "    if left[-1]<right[0]>right[1]:\n",
    "        return right[0]\n",
    "    elif left[-1]<right[0]:\n",
    "        return binarySearchMax(right)\n",
    "    else:\n",
    "        return binarySearchMax(left)\n",
    "    "
   ]
  },
  {
   "cell_type": "code",
   "execution_count": 35,
   "id": "1b9a8f04-a14b-4d43-a538-ea9eca0a7700",
   "metadata": {},
   "outputs": [],
   "source": [
    "ints = [x for x in range(1,100)]\n",
    "ints = ints + [x for x in range(20,1,-1)]"
   ]
  },
  {
   "cell_type": "code",
   "execution_count": 36,
   "id": "684401a8-acf0-45de-a7c2-5124e552c741",
   "metadata": {},
   "outputs": [
    {
     "data": {
      "text/plain": [
       "99"
      ]
     },
     "execution_count": 36,
     "metadata": {},
     "output_type": "execute_result"
    }
   ],
   "source": [
    "binarySearchMax(ints)"
   ]
  },
  {
   "cell_type": "markdown",
   "id": "4d48c1f1-ebb1-45db-9d74-7f871617f270",
   "metadata": {},
   "source": [
    "**You are given a sorted (from smallest to largest) array A of n distinct integers which can be positive, negative, or zero. You want to decide whether or not there is an index i such that A[i] = i. Design the fastest algorithm that you can for solving this problem.**"
   ]
  },
  {
   "cell_type": "code",
   "execution_count": null,
   "id": "cd2e95f2-e2ab-492e-901c-2ad7b430b4af",
   "metadata": {},
   "outputs": [],
   "source": []
  },
  {
   "cell_type": "markdown",
   "id": "0defbe01-360c-42ed-94df-a1a9d4a94a64",
   "metadata": {},
   "source": [
    "**You are given an n by n grid of distinct numbers. A number is a local minimum if it is smaller than all of its neighbors. (A neighbor of a number is one immediately above, below, to the left, or the right. Most numbers have four neighbors; numbers on the side have three; the four corners have two.) Use the divide-and-conquer algorithm design paradigm to compute a local minimum with only O(n) comparisons between pairs of numbers. (Note: since there are n^2 numbers in the input, you cannot afford to look at all of them. Hint: Think about what types of recurrences would give you the desired upper bound.)**"
   ]
  },
  {
   "cell_type": "code",
   "execution_count": 718,
   "id": "bec0ee7c-5256-40bd-bb02-a839c5aa32d3",
   "metadata": {},
   "outputs": [],
   "source": [
    "def checkMin1D(a,i):\n",
    "    if i==0 and a[i]<a[i+1]:\n",
    "        return a[i]\n",
    "    elif i==len(a)-1 and a[i]<a[i-1]:\n",
    "        return a[i]\n",
    "    elif a[i-1]>a[i]<a[i+1]:\n",
    "        return a[i]\n",
    "        \n",
    "\n",
    "def binarySearchMin(row,low,high):\n",
    "    \n",
    "    if len(row)==1:\n",
    "        return 0\n",
    "    \n",
    "    mid = (high+low)//2\n",
    "    \n",
    "    minCheck = checkMin1D(row,low)\n",
    "    if minCheck != None:\n",
    "        return low\n",
    "    \n",
    "    minCheck = checkMin1D(row,high)\n",
    "    if minCheck != None:\n",
    "        return high\n",
    "    \n",
    "    minCheck = checkMin1D(row,mid)\n",
    "    if minCheck != None:\n",
    "        return mid\n",
    "    \n",
    "    if(mid == 0) and (row[mid]<row[mid+1]):\n",
    "        return mid\n",
    "          \n",
    "    if(mid > 0 and row[mid - 1] < row[mid]):\n",
    "        return binarySearchMin(row, low, mid - 1)\n",
    "    \n",
    "    else:\n",
    "        return binarySearchMin(row, mid + 1, high)\n",
    "        \n",
    "def checkMin2D(A,i,j):\n",
    "    \n",
    "    if i==0: \n",
    "        if j==0:\n",
    "            if A[i+1,j]>A[i,j]<A[i,j+1]:\n",
    "                return A[i,j]\n",
    "        if j==A.shape[1]-1:\n",
    "            if A[i+1,j]>A[i,j]<A[i,j-1]:\n",
    "                return A[i,j]\n",
    "        else:\n",
    "            if ((A[i+1,j]>A[i,j]<A[i,j-1]) and \n",
    "                (A[i,j]<A[i,j+1])):\n",
    "                return A[i,j]\n",
    "    elif j==0: \n",
    "        if i==A.shape[0]-1:\n",
    "            if A[i-1,j]>A[i,j]<A[i,j+1]:\n",
    "                return A[i,j]\n",
    "        else:\n",
    "            if ((A[i+1,j]>A[i,j]<A[i,j+1]) and \n",
    "                (A[i,j]<A[i-1,j])):\n",
    "                return A[i,j] \n",
    "            \n",
    "    elif i==A.shape[0]-1: \n",
    "        if j==A.shape[1]-1:\n",
    "            if A[i-1,j]>A[i,j]<A[i,j-1]:\n",
    "                return A[i,j]\n",
    "        else:\n",
    "            if ((A[i-1,j]>A[i,j]<A[i,j-1]) and \n",
    "                (A[i,j]<A[i,j+1])):\n",
    "                return A[i,j]   \n",
    "    \n",
    "    elif j==A.shape[1]-1:\n",
    "        if (A[i-1,j]>A[i,j]<A[i,j-1] and \n",
    "            A[i+1,j]>A[i,j]):\n",
    "            return A[i,j]\n",
    "    \n",
    "    else:\n",
    "        if ((A[i+1,j]>A[i,j]<A[i,j+1]) and \n",
    "            (A[i,j-1]>A[i,j]<A[i-1,j])):\n",
    "            return A[i,j]\n",
    "        \n",
    "def colSplitMatrix(A,rlow,rhigh,clow,chigh):\n",
    "    \n",
    "    col_mid = (chigh+clow)//2\n",
    "    row_idx = binarySearchMin(A[:,col_mid],rlow,rhigh)\n",
    "    \n",
    "    colMin = checkMin2D(A,row_idx,col_mid)\n",
    "    if colMin != None:\n",
    "\n",
    "        return A,row_idx,row_idx,col_mid,col_mid\n",
    "    \n",
    "    if A[row_idx,col_mid-1] < A[row_idx,col_mid]:\n",
    "        \n",
    "        return A,rlow,rhigh,clow,col_mid-1\n",
    "    \n",
    "    else:\n",
    "        \n",
    "        return A,rlow,rhigh,col_mid+1,chigh\n",
    "        \n",
    "def rowSplitMatrix(A,rlow,rhigh,clow,chigh):\n",
    "    \n",
    "    row_mid = (rhigh+rlow)//2\n",
    "    col_idx = binarySearchMin(A[row_mid,:],clow,chigh)\n",
    "    \n",
    "    rowMin = checkMin2D(A,row_mid,col_idx)\n",
    "    if rowMin != None: \n",
    " \n",
    "        return A,row_mid,row_mid,col_idx,col_idx\n",
    "        \n",
    "    if A[row_mid-1,col_idx] < A[row_mid,col_idx]:\n",
    "            \n",
    "        return A,rlow,row_mid-1,clow,chigh\n",
    "        \n",
    "    else:\n",
    "            \n",
    "        return A,row_mid+1,rhigh,clow,chigh\n",
    "\n",
    "def splitStep(A,rlow,rhigh,clow,chigh):\n",
    "    A,rl,rh,cl,ch = colSplitMatrix(A,rlow,rhigh,clow,chigh)\n",
    "    #print(A[rl:rh+1,cl:ch+1])\n",
    "    \n",
    "    return rowSplitMatrix(A,rl,rh,cl,ch)    \n",
    "\n",
    "def localMinimum(A):\n",
    "    rlow=clow=0\n",
    "    rhigh=A.shape[0]-1\n",
    "    chigh=A.shape[1]-1\n",
    "    while (rhigh-rlow,chigh-clow)!=(0,0):\n",
    "         A,rlow,rhigh,clow,chigh = splitStep(A,rlow,rhigh,clow,chigh)\n",
    "    return A[rlow,rhigh]    "
   ]
  },
  {
   "cell_type": "code",
   "execution_count": 719,
   "id": "d13ef6c3-0bda-4c12-b52f-ff14c70e2116",
   "metadata": {},
   "outputs": [
    {
     "name": "stdout",
     "output_type": "stream",
     "text": [
      "89\n"
     ]
    }
   ],
   "source": [
    "A = [[78,101,87,88,90],\n",
    "     [73,89,86,87,11],\n",
    "     [51,60,93,101,34],\n",
    "     [50,51,50,74,67],\n",
    "     [51,60,93,101,34]]\n",
    "\n",
    "#A = [[ 38, 101],\n",
    "#     [ 35,  74]]\n",
    "\n",
    "A = np.array(A).reshape((5,5))\n",
    "\n",
    "print(localMinimum(A))    "
   ]
  },
  {
   "cell_type": "code",
   "execution_count": null,
   "id": "32190e94-ffc6-4741-9fbf-526874d58f06",
   "metadata": {},
   "outputs": [],
   "source": []
  }
 ],
 "metadata": {
  "kernelspec": {
   "display_name": "Python 3",
   "language": "python",
   "name": "python3"
  },
  "language_info": {
   "codemirror_mode": {
    "name": "ipython",
    "version": 3
   },
   "file_extension": ".py",
   "mimetype": "text/x-python",
   "name": "python",
   "nbconvert_exporter": "python",
   "pygments_lexer": "ipython3",
   "version": "3.8.8"
  }
 },
 "nbformat": 4,
 "nbformat_minor": 5
}
