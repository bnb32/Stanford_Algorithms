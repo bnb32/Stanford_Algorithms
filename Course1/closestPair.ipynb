{
 "cells": [
  {
   "cell_type": "code",
   "execution_count": 133,
   "id": "e6f91da7-0269-44b1-860b-cb85a4697f34",
   "metadata": {},
   "outputs": [
    {
     "name": "stdout",
     "output_type": "stream",
     "text": [
      "Collecting matplotlib\n",
      "  Downloading matplotlib-3.4.3-cp39-cp39-manylinux1_x86_64.whl (10.3 MB)\n",
      "\u001b[K     |████████████████████████████████| 10.3 MB 4.8 MB/s eta 0:00:01\n",
      "\u001b[?25hRequirement already satisfied: python-dateutil>=2.7 in /home/bnb/anaconda3/envs/bot/lib/python3.9/site-packages (from matplotlib) (2.8.1)\n",
      "Collecting pillow>=6.2.0\n",
      "  Downloading Pillow-8.3.1-cp39-cp39-manylinux_2_5_x86_64.manylinux1_x86_64.whl (3.0 MB)\n",
      "\u001b[K     |████████████████████████████████| 3.0 MB 11.4 MB/s eta 0:00:01\n",
      "\u001b[?25hCollecting kiwisolver>=1.0.1\n",
      "  Downloading kiwisolver-1.3.1-cp39-cp39-manylinux1_x86_64.whl (1.2 MB)\n",
      "\u001b[K     |████████████████████████████████| 1.2 MB 10.1 MB/s eta 0:00:01\n",
      "\u001b[?25hCollecting cycler>=0.10\n",
      "  Downloading cycler-0.10.0-py2.py3-none-any.whl (6.5 kB)\n",
      "Requirement already satisfied: pyparsing>=2.2.1 in /home/bnb/anaconda3/envs/bot/lib/python3.9/site-packages (from matplotlib) (2.4.7)\n",
      "Requirement already satisfied: numpy>=1.16 in /home/bnb/anaconda3/envs/bot/lib/python3.9/site-packages (from matplotlib) (1.20.1)\n",
      "Requirement already satisfied: six in /home/bnb/anaconda3/envs/bot/lib/python3.9/site-packages (from cycler>=0.10->matplotlib) (1.15.0)\n",
      "Installing collected packages: pillow, kiwisolver, cycler, matplotlib\n",
      "\u001b[31mERROR: pip's dependency resolver does not currently take into account all the packages that are installed. This behaviour is the source of the following dependency conflicts.\n",
      "lime 0.2.0.1 requires scikit-image>=0.12, which is not installed.\u001b[0m\n",
      "Successfully installed cycler-0.10.0 kiwisolver-1.3.1 matplotlib-3.4.3 pillow-8.3.1\n"
     ]
    }
   ],
   "source": [
    "import numpy as np\n",
    "\n",
    "!pip install matplotlib\n",
    "\n",
    "import matplotlib.pyplot as plt"
   ]
  },
  {
   "cell_type": "code",
   "execution_count": 39,
   "id": "c1ccf5b4-769b-4a47-9f18-ce54cc88b293",
   "metadata": {},
   "outputs": [],
   "source": [
    "def merge(a,b,idx=0):\n",
    "    i=0;j=0;\n",
    "    out=[[0]*len(a[0])]*(len(a)+len(b))\n",
    "    \n",
    "    for k in range(0,len(a)+len(b)-1):\n",
    "        if i==len(a) and (j+1)<len(b):\n",
    "            out[k]=b[j]\n",
    "            j+=1\n",
    "        elif j==len(b) and (i+1)<len(a):\n",
    "            out[k]=a[i]\n",
    "            i+=1\n",
    "        elif a[i][idx]<b[j][idx]:\n",
    "            out[k]=a[i]\n",
    "            i+=1\n",
    "        elif b[j][idx]<=a[i][idx]:\n",
    "            out[k]=b[j]\n",
    "            j+=1\n",
    "    \n",
    "    if a[-1][idx]>=b[-1][idx]:\n",
    "        out[-1]=a[-1]\n",
    "    else:\n",
    "        out[-1]=b[-1]\n",
    "\n",
    "    return out        \n",
    "\n",
    "def mergeSort(a,idx=0):\n",
    "    left = a[0:len(a)//2]\n",
    "    right = a[len(a)//2:]\n",
    "    \n",
    "    if len(left)==1:\n",
    "        if len(right)==1:\n",
    "            pass\n",
    "        else:\n",
    "            if right[0][idx]<=right[1][idx]:\n",
    "                pass\n",
    "            else:\n",
    "                right = [right[1],right[0]]\n",
    "                \n",
    "        return merge(left,right,idx) \n",
    "    \n",
    "    if len(right)==1:\n",
    "        if len(left)==1:\n",
    "            pass\n",
    "        else:\n",
    "            if left[0][idx]<=left[1][idx]:\n",
    "                pass\n",
    "            else:\n",
    "                left = [left[1],left[0]]            \n",
    "            \n",
    "        return merge(left,right,idx)                 \n",
    "\n",
    "    else:\n",
    "\n",
    "        return merge(mergeSort(left,idx),mergeSort(right,idx),idx)"
   ]
  },
  {
   "cell_type": "code",
   "execution_count": 151,
   "id": "3be5e1cc-f250-48b6-accd-911d90e03149",
   "metadata": {},
   "outputs": [],
   "source": [
    "a=[[-1,0],[1,0],[0,-1],[0,1],[-0.1,0.1],[0.1,-0.1],[0.5,0.5],[-0.5,-0.5]]"
   ]
  },
  {
   "cell_type": "code",
   "execution_count": 152,
   "id": "052f6521-bf7a-45f8-9a25-4fea291d47f4",
   "metadata": {},
   "outputs": [
    {
     "data": {
      "image/png": "[encoded data removed]",
      "text/plain": [
       "<Figure size 432x288 with 1 Axes>"
      ]
     },
     "metadata": {
      "needs_background": "light"
     },
     "output_type": "display_data"
    }
   ],
   "source": [
    "plt.scatter([p[0] for p in a],[p[1] for p in a])\n",
    "plt.show()"
   ]
  },
  {
   "cell_type": "code",
   "execution_count": 153,
   "id": "bfb53e4c-322d-4217-80ab-06fdb882f3a2",
   "metadata": {},
   "outputs": [
    {
     "name": "stdout",
     "output_type": "stream",
     "text": [
      "[[0, -1], [-0.5, -0.5], [0.1, -0.1], [1, 0], [-1, 0], [-0.1, 0.1], [0.5, 0.5], [0, 1]]\n"
     ]
    }
   ],
   "source": [
    "print(mergeSort(a,1))"
   ]
  },
  {
   "cell_type": "code",
   "execution_count": 154,
   "id": "a72b8bec-af81-4cdb-9d02-2182c58ae9c9",
   "metadata": {},
   "outputs": [
    {
     "name": "stdout",
     "output_type": "stream",
     "text": [
      "[[-1, 0], [-0.5, -0.5], [-0.1, 0.1], [0, 1], [0, -1], [0.1, -0.1], [0.5, 0.5], [1, 0]]\n"
     ]
    }
   ],
   "source": [
    "print(mergeSort(a,0))"
   ]
  },
  {
   "cell_type": "code",
   "execution_count": 155,
   "id": "e539000c-36ec-4279-a891-752b7674999f",
   "metadata": {},
   "outputs": [],
   "source": [
    "def distance(p1,p2):\n",
    "    d = [(p1[k]-p2[k])**2 for k in range(len(p1))]\n",
    "    d = sum(d)**5\n",
    "    return d    "
   ]
  },
  {
   "cell_type": "code",
   "execution_count": 166,
   "id": "b14092c4-5fc3-4bb7-b59c-4d60dcbd2f09",
   "metadata": {},
   "outputs": [],
   "source": [
    "def best_pair(pairs):\n",
    "    distances = [distance(p[0],p[1]) for p in pairs if len(p) > 0]\n",
    "    return pairs[distances.index(min(distances))]"
   ]
  },
  {
   "cell_type": "code",
   "execution_count": 167,
   "id": "4f33372b-8b92-4fca-ac38-69ecd081b91f",
   "metadata": {},
   "outputs": [],
   "source": [
    "def brute_force(a,b):\n",
    "    distances = {}\n",
    "    for i in range(len(a)):\n",
    "        for j in range(len(b)):\n",
    "            p1 = a[i]\n",
    "            p2 = b[j]\n",
    "            if p1 == p2:\n",
    "                pass\n",
    "            else:\n",
    "                distances[distance(p1,p2)] = [p1,p2]\n",
    "    return sorted(distances.items())[0][1]"
   ]
  },
  {
   "cell_type": "code",
   "execution_count": 218,
   "id": "5287923e-b93c-4165-8ac0-c59f7f8d4d97",
   "metadata": {},
   "outputs": [],
   "source": [
    "def split_coords(a,mid):\n",
    "    left = []\n",
    "    right = []\n",
    "    for p in a:\n",
    "        if p[0] <= mid and (len(left) < len(a)//2):\n",
    "            left.append(p)\n",
    "        else:\n",
    "            right.append(p)\n",
    "    return left,right        "
   ]
  },
  {
   "cell_type": "code",
   "execution_count": 219,
   "id": "b82f2bd0-e761-49ab-a421-face32540a7c",
   "metadata": {},
   "outputs": [
    {
     "data": {
      "text/plain": [
       "[[0.1, -0.1], [-0.1, 0.1]]"
      ]
     },
     "execution_count": 219,
     "metadata": {},
     "output_type": "execute_result"
    }
   ],
   "source": [
    "brute_force(a,a)"
   ]
  },
  {
   "cell_type": "code",
   "execution_count": 220,
   "id": "dec275d6-9c3f-4705-9d7b-f7865eabc50a",
   "metadata": {},
   "outputs": [],
   "source": [
    "def closestSplitPair(Px,Py,delta):\n",
    "    x_bar = Px[len(Px)//2][0]   \n",
    "    Sy = [p for p in Py if x_bar - delta <= p[0] <= x_bar + delta]\n",
    "    best_points = []\n",
    "    best = delta\n",
    "    for i in range(len(Sy)):\n",
    "        for j in range(i+1,min((7,len(Sy)))):\n",
    "            p1 = Sy[i]\n",
    "            p2 = Sy[j]\n",
    "            if distance(p1,p2) < best:\n",
    "                best_points = [p1,p2]\n",
    "                best = distance(p1,p2)\n",
    "    return best_points            \n",
    "    "
   ]
  },
  {
   "cell_type": "code",
   "execution_count": 225,
   "id": "ccd41ceb-36f9-4a09-a62d-6a5cf33c4d72",
   "metadata": {},
   "outputs": [],
   "source": [
    "def closestPair(Px,Py):\n",
    "    \n",
    "    if len(Px)<=3:\n",
    "        return brute_force(Px,Py)\n",
    "    \n",
    "    else:\n",
    "        \n",
    "        Qx = Px[:len(Px)//2]\n",
    "        Rx = Px[len(Px)//2:]\n",
    "        #Qy,Ry = split_coords(Py,Qx[-1][0])\n",
    "        \n",
    "        Qy = Py[:len(Py)//2]\n",
    "        Ry = Py[len(Py)//2:]\n",
    "        \n",
    "        print(\"Qx: \",Qx)\n",
    "        print(\"Qy: \",Qy)\n",
    "        print(\"Rx: \",Rx)\n",
    "        print(\"Ry: \",Ry)\n",
    "        \n",
    "        cpQ = closestPair(Qx,Qy)\n",
    "        cpR = closestPair(Rx,Ry)\n",
    "        delta = min((distance(cpQ[0],cpQ[1]),distance(cpR[0],cpR[1])))\n",
    "        cp_split = closestSplitPair(Px,Py,delta)\n",
    "        #return best_pair([cpQ,cpR,cp_split])\n",
    "        return best_pair([cpQ,cpR])\n",
    "        \n",
    "    "
   ]
  },
  {
   "cell_type": "code",
   "execution_count": 226,
   "id": "cd033c8f-e6b8-41e0-bb90-71abb8e59cf6",
   "metadata": {},
   "outputs": [
    {
     "name": "stdout",
     "output_type": "stream",
     "text": [
      "Qx:  [[-1, 0], [-0.5, -0.5], [-0.1, 0.1], [0, 1]]\n",
      "Qy:  [[0, -1], [-0.5, -0.5], [0.1, -0.1], [1, 0]]\n",
      "Rx:  [[0, -1], [0.1, -0.1], [0.5, 0.5], [1, 0]]\n",
      "Ry:  [[-1, 0], [-0.1, 0.1], [0.5, 0.5], [0, 1]]\n",
      "Qx:  [[-1, 0], [-0.5, -0.5]]\n",
      "Qy:  [[0, -1], [-0.5, -0.5]]\n",
      "Rx:  [[-0.1, 0.1], [0, 1]]\n",
      "Ry:  [[0.1, -0.1], [1, 0]]\n",
      "Qx:  [[0, -1], [0.1, -0.1]]\n",
      "Qy:  [[-1, 0], [-0.1, 0.1]]\n",
      "Rx:  [[0.5, 0.5], [1, 0]]\n",
      "Ry:  [[0.5, 0.5], [0, 1]]\n"
     ]
    },
    {
     "data": {
      "text/plain": [
       "[[-0.1, 0.1], [0.1, -0.1]]"
      ]
     },
     "execution_count": 226,
     "metadata": {},
     "output_type": "execute_result"
    }
   ],
   "source": [
    "closestPair(mergeSort(a,0),mergeSort(a,1))"
   ]
  },
  {
   "cell_type": "code",
   "execution_count": null,
   "id": "cd9a1c7e-6a5b-4eb2-987b-470d0a6e252d",
   "metadata": {},
   "outputs": [],
   "source": []
  }
 ],
 "metadata": {
  "kernelspec": {
   "display_name": "Python 3 (ipykernel)",
   "language": "python",
   "name": "python3"
  },
  "language_info": {
   "codemirror_mode": {
    "name": "ipython",
    "version": 3
   },
   "file_extension": ".py",
   "mimetype": "text/x-python",
   "name": "python",
   "nbconvert_exporter": "python",
   "pygments_lexer": "ipython3",
   "version": "3.9.4"
  }
 },
 "nbformat": 4,
 "nbformat_minor": 5
}
