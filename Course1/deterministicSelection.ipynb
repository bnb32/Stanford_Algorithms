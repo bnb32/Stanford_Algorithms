{
 "cells": [
  {
   "cell_type": "code",
   "execution_count": 2,
   "id": "299d38c5-7f81-4276-b902-7089f3ea8585",
   "metadata": {},
   "outputs": [],
   "source": [
    "import numpy as np"
   ]
  },
  {
   "cell_type": "code",
   "execution_count": 11,
   "id": "31064659-a651-430c-83b0-fba002c03802",
   "metadata": {},
   "outputs": [],
   "source": [
    "def merge(a,b):\n",
    "    i=0;j=0;\n",
    "    out=[0]*(len(a)+len(b))\n",
    "    \n",
    "    for k in range(0,len(a)+len(b)-1):\n",
    "        if i==len(a) and (j+1)<len(b):\n",
    "            out[k]=b[j]\n",
    "            j+=1\n",
    "        elif j==len(b) and (i+1)<len(a):\n",
    "            out[k]=a[i]\n",
    "            i+=1\n",
    "        elif a[i]<b[j]:\n",
    "            out[k]=a[i]\n",
    "            i+=1\n",
    "        elif b[j]<=a[i]:\n",
    "            out[k]=b[j]\n",
    "            j+=1\n",
    "\n",
    "    out[-1]=max((a[-1],b[-1]))\n",
    "\n",
    "    return out        \n",
    "\n",
    "def mergesort(a):\n",
    "    left = a[0:len(a)//2]\n",
    "    right = a[len(a)//2:]\n",
    "    \n",
    "    if len(left)==1:\n",
    "        if len(right)==1:\n",
    "            pass\n",
    "        else:\n",
    "            if right[0]<=right[1]:\n",
    "                pass\n",
    "            else:\n",
    "                right = [right[1],right[0]]\n",
    "                \n",
    "        return merge(left,right) \n",
    "    \n",
    "    if len(right)==1:\n",
    "        if len(left)==1:\n",
    "            pass\n",
    "        else:\n",
    "            if left[0]<=left[1]:\n",
    "                pass\n",
    "            else:\n",
    "                left = [left[1],left[0]]            \n",
    "            \n",
    "        return merge(left,right)                 \n",
    "\n",
    "    else:\n",
    "\n",
    "        return merge(mergeSort(left),mergeSort(right))"
   ]
  },
  {
   "cell_type": "code",
   "execution_count": 57,
   "id": "9375c760-6408-4089-94af-2bede15acff7",
   "metadata": {},
   "outputs": [],
   "source": [
    "def selection(a,order):\n",
    "    \n",
    "    order = min((order,len(a)))\n",
    "    if len(a)==1: return a\n",
    "\n",
    "    #a = pickPivot(a)\n",
    "    \n",
    "    medians = []\n",
    "    chunks = np.array_split(a,int(np.ceil(len(a)/5)))\n",
    "    for i,c in enumerate(chunks):\n",
    "        chunks[i] = mergesort(c)\n",
    "        medians.append(chunks[i][len(c)//2])  \n",
    "    ap = selection(medians,len(medians)//2)[0]\n",
    "    i = a.index(ap)\n",
    "    a0 = a[0]\n",
    "    a[i] = a0\n",
    "    a[0] = ap    \n",
    "        \n",
    "    i=0\n",
    "    for j in range(1,len(a)):\n",
    "        if a[j]>a[0]: \n",
    "            pass\n",
    "        else:\n",
    "            ai=a[i+1]\n",
    "            aj=a[j]\n",
    "            a[i+1]=aj\n",
    "            a[j]=ai\n",
    "            i+=1\n",
    "    \n",
    "    ap=a[0]\n",
    "    ai=a[i]\n",
    "    a[0]=ai\n",
    "    a[i]=ap\n",
    "    \n",
    "    if i+1==order: return [ap]\n",
    "    \n",
    "    if order>i+1:\n",
    "        order-=i+1\n",
    "        return selection(a[i+1:],order)\n",
    "    else:\n",
    "        return selection(a[:i],order) "
   ]
  },
  {
   "cell_type": "code",
   "execution_count": 58,
   "id": "96acad1f-4645-4db2-9aa9-6a769fbb3fae",
   "metadata": {},
   "outputs": [
    {
     "name": "stdout",
     "output_type": "stream",
     "text": [
      "[3]\n"
     ]
    }
   ],
   "source": [
    "lines = [2,4,6,10,3,5,1]\n",
    "\n",
    "part = selection(lines,3)\n",
    "print(part)"
   ]
  },
  {
   "cell_type": "code",
   "execution_count": null,
   "id": "1dd4b2f4-a5ae-45f2-98f7-178d776671f1",
   "metadata": {},
   "outputs": [],
   "source": []
  }
 ],
 "metadata": {
  "kernelspec": {
   "display_name": "Python 3",
   "language": "python",
   "name": "python3"
  },
  "language_info": {
   "codemirror_mode": {
    "name": "ipython",
    "version": 3
   },
   "file_extension": ".py",
   "mimetype": "text/x-python",
   "name": "python",
   "nbconvert_exporter": "python",
   "pygments_lexer": "ipython3",
   "version": "3.8.8"
  }
 },
 "nbformat": 4,
 "nbformat_minor": 5
}
