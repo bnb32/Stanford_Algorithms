{
 "cells": [
  {
   "cell_type": "code",
   "execution_count": null,
   "id": "3cd5203a-def9-431e-9d15-6765b96982be",
   "metadata": {},
   "outputs": [],
   "source": [
    "def mergeCountSplitInversions(a,b):\n",
    "    i=0;j=0;count=0\n",
    "    out=[0]*(len(a)+len(b))\n",
    "    \n",
    "    for k in range(0,len(a)+len(b)-1):\n",
    "        if i==len(a) and (j+1)<len(b):\n",
    "            out[k]=b[j]\n",
    "            j+=1\n",
    "        elif j==len(b) and (i+1)<len(a):\n",
    "            out[k]=a[i]\n",
    "            i+=1\n",
    "        elif a[i]<b[j]:\n",
    "            out[k]=a[i]\n",
    "            i+=1\n",
    "        elif b[j]<=a[i]:\n",
    "            out[k]=b[j]\n",
    "            count+=(len(a[i:]))\n",
    "            j+=1\n",
    "\n",
    "    out[-1]=max((a[-1],b[-1]))\n",
    "\n",
    "    return count,out        \n",
    "\n",
    "def countInversions(a):\n",
    "    count=0\n",
    "    out=[0]*len(a)\n",
    "    if len(a)==1: \n",
    "        count=0\n",
    "        out=a[:]\n",
    "    elif len(a)==2:\n",
    "        if a[0]>a[1]: \n",
    "            count=1\n",
    "            out[0]=a[1]\n",
    "            out[1]=a[0]\n",
    "        else:\n",
    "            out=a[:]\n",
    "    else:\n",
    "        left=a[:len(a)//2]\n",
    "        right=a[len(a)//2:]\n",
    "        count_left,out_left=countInversions(left)\n",
    "        count_right,out_right=countInversions(right)\n",
    "        count_split,out=mergeCountSplitInversions(out_left,out_right)\n",
    "        count=count_left+count_right+count_split\n",
    "    \n",
    "    return count,out"
   ]
  },
  {
   "cell_type": "code",
   "execution_count": null,
   "id": "a5e89df0-cab9-4bc3-9a97-199ac895a351",
   "metadata": {},
   "outputs": [],
   "source": [
    "print(countInversions([3,5,1,2,4]))"
   ]
  }
 ],
 "metadata": {
  "kernelspec": {
   "display_name": "Python 3 (ipykernel)",
   "language": "python",
   "name": "python3"
  },
  "language_info": {
   "codemirror_mode": {
    "name": "ipython",
    "version": 3
   },
   "file_extension": ".py",
   "mimetype": "text/x-python",
   "name": "python",
   "nbconvert_exporter": "python",
   "pygments_lexer": "ipython3",
   "version": "3.9.4"
  }
 },
 "nbformat": 4,
 "nbformat_minor": 5
}
