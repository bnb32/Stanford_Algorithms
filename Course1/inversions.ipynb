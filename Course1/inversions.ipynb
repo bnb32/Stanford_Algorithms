{
 "cells": [
  {
   "cell_type": "code",
   "execution_count": 1,
   "id": "377980bc-b5f8-4df7-bf3e-f1e65cab0277",
   "metadata": {},
   "outputs": [],
   "source": [
    "f = open('IntegerArray.txt','r')"
   ]
  },
  {
   "cell_type": "code",
   "execution_count": 2,
   "id": "0ce03f88-8e25-49ff-9535-adf988c51fe3",
   "metadata": {},
   "outputs": [],
   "source": [
    "lines = f.readlines()"
   ]
  },
  {
   "cell_type": "code",
   "execution_count": 4,
   "id": "8e6aa903-2312-4a46-b219-889a0443f86c",
   "metadata": {},
   "outputs": [],
   "source": [
    "lines = [int(l) for l in lines]"
   ]
  },
  {
   "cell_type": "code",
   "execution_count": 11,
   "id": "7a443589-03f4-4941-b379-0999256f941f",
   "metadata": {},
   "outputs": [],
   "source": [
    "def mergeCountSplitInversions(a,b):\n",
    "    i=0;j=0;count=0\n",
    "    out=[0]*(len(a)+len(b))\n",
    "    \n",
    "    for k in range(0,len(a)+len(b)-1):\n",
    "        if i==len(a) and (j+1)<len(b):\n",
    "            out[k]=b[j]\n",
    "            j+=1\n",
    "        elif j==len(b) and (i+1)<len(a):\n",
    "            out[k]=a[i]\n",
    "            i+=1\n",
    "        elif a[i]<b[j]:\n",
    "            out[k]=a[i]\n",
    "            i+=1\n",
    "        elif b[j]<=a[i]:\n",
    "            out[k]=b[j]\n",
    "            count+=(len(a[i:]))\n",
    "            j+=1\n",
    "\n",
    "    out[-1]=max((a[-1],b[-1]))\n",
    "\n",
    "    return count,out        \n",
    "\n",
    "def countInversions(a):\n",
    "    count=0\n",
    "    out=[0]*len(a)\n",
    "    if len(a)==1: \n",
    "        count=0\n",
    "        out=a[:]\n",
    "    elif len(a)==2:\n",
    "        if a[0]>a[1]: \n",
    "            count=1\n",
    "            out[0]=a[1]\n",
    "            out[1]=a[0]\n",
    "        else:\n",
    "            out=a[:]\n",
    "    else:\n",
    "        left=a[:len(a)//2]\n",
    "        right=a[len(a)//2:]\n",
    "        count_left,out_left=countInversions(left)\n",
    "        count_right,out_right=countInversions(right)\n",
    "        count_split,out=mergeCountSplitInversions(out_left,out_right)\n",
    "        count=count_left+count_right+count_split\n",
    "    \n",
    "    return count,out"
   ]
  },
  {
   "cell_type": "code",
   "execution_count": 12,
   "id": "a5e89df0-cab9-4bc3-9a97-199ac895a351",
   "metadata": {},
   "outputs": [
    {
     "ename": "KeyboardInterrupt",
     "evalue": "",
     "output_type": "error",
     "traceback": [
      "\u001b[0;31m-----------------------------------------------------\u001b[0m",
      "\u001b[0;31mKeyboardInterrupt\u001b[0m   Traceback (most recent call last)",
      "\u001b[0;32m<ipython-input-12-57ca504544c3>\u001b[0m in \u001b[0;36m<module>\u001b[0;34m\u001b[0m\n\u001b[0;32m----> 1\u001b[0;31m \u001b[0mprint\u001b[0m\u001b[0;34m(\u001b[0m\u001b[0mcountInversions\u001b[0m\u001b[0;34m(\u001b[0m\u001b[0mlines\u001b[0m\u001b[0;34m)\u001b[0m\u001b[0;34m)\u001b[0m\u001b[0;34m\u001b[0m\u001b[0;34m\u001b[0m\u001b[0m\n\u001b[0m",
      "\u001b[0;32m<ipython-input-11-0706e532cfe1>\u001b[0m in \u001b[0;36mcountInversions\u001b[0;34m(a)\u001b[0m\n\u001b[1;32m     40\u001b[0m         \u001b[0mcount_left\u001b[0m\u001b[0;34m,\u001b[0m\u001b[0mout_left\u001b[0m\u001b[0;34m=\u001b[0m\u001b[0mcountInversions\u001b[0m\u001b[0;34m(\u001b[0m\u001b[0mleft\u001b[0m\u001b[0;34m)\u001b[0m\u001b[0;34m\u001b[0m\u001b[0;34m\u001b[0m\u001b[0m\n\u001b[1;32m     41\u001b[0m         \u001b[0mcount_right\u001b[0m\u001b[0;34m,\u001b[0m\u001b[0mout_right\u001b[0m\u001b[0;34m=\u001b[0m\u001b[0mcountInversions\u001b[0m\u001b[0;34m(\u001b[0m\u001b[0mright\u001b[0m\u001b[0;34m)\u001b[0m\u001b[0;34m\u001b[0m\u001b[0;34m\u001b[0m\u001b[0m\n\u001b[0;32m---> 42\u001b[0;31m         \u001b[0mcount_split\u001b[0m\u001b[0;34m,\u001b[0m\u001b[0mout\u001b[0m\u001b[0;34m=\u001b[0m\u001b[0mmergeCountSplitInversions\u001b[0m\u001b[0;34m(\u001b[0m\u001b[0mout_left\u001b[0m\u001b[0;34m,\u001b[0m\u001b[0mout_right\u001b[0m\u001b[0;34m)\u001b[0m\u001b[0;34m\u001b[0m\u001b[0;34m\u001b[0m\u001b[0m\n\u001b[0m\u001b[1;32m     43\u001b[0m         \u001b[0mcount\u001b[0m\u001b[0;34m=\u001b[0m\u001b[0mcount_left\u001b[0m\u001b[0;34m+\u001b[0m\u001b[0mcount_right\u001b[0m\u001b[0;34m+\u001b[0m\u001b[0mcount_split\u001b[0m\u001b[0;34m\u001b[0m\u001b[0;34m\u001b[0m\u001b[0m\n\u001b[1;32m     44\u001b[0m \u001b[0;34m\u001b[0m\u001b[0m\n",
      "\u001b[0;32m<ipython-input-11-0706e532cfe1>\u001b[0m in \u001b[0;36mmergeCountSplitInversions\u001b[0;34m(a, b)\u001b[0m\n\u001b[1;32m     15\u001b[0m         \u001b[0;32melif\u001b[0m \u001b[0mb\u001b[0m\u001b[0;34m[\u001b[0m\u001b[0mj\u001b[0m\u001b[0;34m]\u001b[0m\u001b[0;34m<=\u001b[0m\u001b[0ma\u001b[0m\u001b[0;34m[\u001b[0m\u001b[0mi\u001b[0m\u001b[0;34m]\u001b[0m\u001b[0;34m:\u001b[0m\u001b[0;34m\u001b[0m\u001b[0;34m\u001b[0m\u001b[0m\n\u001b[1;32m     16\u001b[0m             \u001b[0mout\u001b[0m\u001b[0;34m[\u001b[0m\u001b[0mk\u001b[0m\u001b[0;34m]\u001b[0m\u001b[0;34m=\u001b[0m\u001b[0mb\u001b[0m\u001b[0;34m[\u001b[0m\u001b[0mj\u001b[0m\u001b[0;34m]\u001b[0m\u001b[0;34m\u001b[0m\u001b[0;34m\u001b[0m\u001b[0m\n\u001b[0;32m---> 17\u001b[0;31m             \u001b[0mcount\u001b[0m\u001b[0;34m+=\u001b[0m\u001b[0;34m(\u001b[0m\u001b[0mlen\u001b[0m\u001b[0;34m(\u001b[0m\u001b[0ma\u001b[0m\u001b[0;34m[\u001b[0m\u001b[0mi\u001b[0m\u001b[0;34m:\u001b[0m\u001b[0;34m]\u001b[0m\u001b[0;34m)\u001b[0m\u001b[0;34m)\u001b[0m\u001b[0;34m\u001b[0m\u001b[0;34m\u001b[0m\u001b[0m\n\u001b[0m\u001b[1;32m     18\u001b[0m             \u001b[0mj\u001b[0m\u001b[0;34m+=\u001b[0m\u001b[0;36m1\u001b[0m\u001b[0;34m\u001b[0m\u001b[0;34m\u001b[0m\u001b[0m\n\u001b[1;32m     19\u001b[0m \u001b[0;34m\u001b[0m\u001b[0m\n",
      "\u001b[0;31mKeyboardInterrupt\u001b[0m: "
     ]
    }
   ],
   "source": [
    "count,out = countInversions(lines)\n",
    "print(count)"
   ]
  },
  {
   "cell_type": "code",
   "execution_count": null,
   "id": "7f5a7524-552e-4b2d-9256-35eafbaa0971",
   "metadata": {},
   "outputs": [],
   "source": []
  }
 ],
 "metadata": {
  "kernelspec": {
   "display_name": "Python 3",
   "language": "python",
   "name": "python3"
  },
  "language_info": {
   "codemirror_mode": {
    "name": "ipython",
    "version": 3
   },
   "file_extension": ".py",
   "mimetype": "text/x-python",
   "name": "python",
   "nbconvert_exporter": "python",
   "pygments_lexer": "ipython3",
   "version": "3.8.8"
  }
 },
 "nbformat": 4,
 "nbformat_minor": 5
}
