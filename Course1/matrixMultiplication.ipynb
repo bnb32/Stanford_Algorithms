{
 "cells": [
  {
   "cell_type": "code",
   "execution_count": 1,
   "id": "7b95bae6-c1ec-4209-b101-65f855fb8e4a",
   "metadata": {},
   "outputs": [],
   "source": [
    "import numpy as np"
   ]
  },
  {
   "cell_type": "code",
   "execution_count": 14,
   "id": "00a09b29-6b93-4cba-873b-df4ed9dbfced",
   "metadata": {},
   "outputs": [
    {
     "data": {
      "text/plain": [
       "array([[2, 3, 4, 5],\n",
       "       [0, 2, 0, 0],\n",
       "       [0, 0, 2, 0],\n",
       "       [0, 0, 0, 2]])"
      ]
     },
     "execution_count": 14,
     "metadata": {},
     "output_type": "execute_result"
    }
   ],
   "source": [
    "N=4\n",
    "\n",
    "A = np.array([[1,0,0,0],\n",
    "              [0,1,0,0],\n",
    "              [0,0,1,0],\n",
    "              [0,0,0,1]])\n",
    "B = np.array([[2,3,4,5],\n",
    "              [0,2,0,0],\n",
    "              [0,0,2,0],\n",
    "              [0,0,0,2]])\n",
    "\n",
    "B"
   ]
  },
  {
   "cell_type": "code",
   "execution_count": 26,
   "id": "c8d93577-32ca-4237-93cd-3abc9aee9285",
   "metadata": {},
   "outputs": [],
   "source": [
    "def matrix_multiplication(A,B):\n",
    "\n",
    "    N = A.shape[0]\n",
    "    out = np.zeros((N,N))\n",
    "\n",
    "    A00 = A[0:N//2,0:N//2]\n",
    "    A01 = A[0:N//2,N//2:]\n",
    "    A10 = A[N//2:,0:N//2]\n",
    "    A11 = A[N//2:,N//2:]\n",
    "\n",
    "    B00 = B[0:N//2,0:N//2]\n",
    "    B01 = B[0:N//2,N//2:]\n",
    "    B10 = B[N//2:,0:N//2]\n",
    "    B11 = B[N//2:,N//2:]\n",
    "    \n",
    "    if N==2:\n",
    "        out[0,0] = A00*B00+A01*B10\n",
    "        out[0,1] = A00*B01+A01*B11\n",
    "        out[1,0] = A10*B00+A11*B10\n",
    "        out[1,1] = A10*B01+A11*B11        \n",
    "        return out\n",
    "    else:\n",
    "        P1 = matrix_multiplication(A00,B00)\n",
    "        P2 = matrix_multiplication(A01,B10)\n",
    "        P3 = matrix_multiplication(A00,B01)\n",
    "        P4 = matrix_multiplication(A01,B11)\n",
    "        P5 = matrix_multiplication(A10,B00)\n",
    "        P6 = matrix_multiplication(A11,B10)\n",
    "        P7 = matrix_multiplication(A10,B01)\n",
    "        P8 = matrix_multiplication(A11,B11)\n",
    "        out[0:N//2,0:N//2] = P1+P2\n",
    "        out[0:N//2,N//2:] = P3+P4\n",
    "        out[N//2:,0:N//2] = P5+P6\n",
    "        out[N//2:,N//2:] = P7+P8\n",
    "        return out"
   ]
  },
  {
   "cell_type": "code",
   "execution_count": 27,
   "id": "36cb2f88-0c7e-4ce6-85c1-b18c1c236522",
   "metadata": {},
   "outputs": [
    {
     "data": {
      "text/plain": [
       "array([[2., 3., 4., 5.],\n",
       "       [0., 2., 0., 0.],\n",
       "       [0., 0., 2., 0.],\n",
       "       [0., 0., 0., 2.]])"
      ]
     },
     "execution_count": 27,
     "metadata": {},
     "output_type": "execute_result"
    }
   ],
   "source": [
    "matrix_multiplication(A,B)"
   ]
  },
  {
   "cell_type": "code",
   "execution_count": 28,
   "id": "b8ba67f8-caf4-42c3-9bf3-eecb9bddf93a",
   "metadata": {},
   "outputs": [],
   "source": [
    "def subcubic_matrix_multiplication(A,B):\n",
    "\n",
    "    N = A.shape[0]\n",
    "    out = np.zeros((N,N))\n",
    "\n",
    "    A00 = A[0:N//2,0:N//2]\n",
    "    A01 = A[0:N//2,N//2:]\n",
    "    A10 = A[N//2:,0:N//2]\n",
    "    A11 = A[N//2:,N//2:]\n",
    "\n",
    "    B00 = B[0:N//2,0:N//2]\n",
    "    B01 = B[0:N//2,N//2:]\n",
    "    B10 = B[N//2:,0:N//2]\n",
    "    B11 = B[N//2:,N//2:]\n",
    "    \n",
    "    if N==2:\n",
    "        out[0,0] = A00*B00+A01*B10\n",
    "        out[0,1] = A00*B01+A01*B11\n",
    "        out[1,0] = A10*B00+A11*B10\n",
    "        out[1,1] = A10*B01+A11*B11        \n",
    "        return out\n",
    "    else:\n",
    "        P1 = matrix_multiplication(A00,B01-B11)\n",
    "        P2 = matrix_multiplication(A00+A01,B11)\n",
    "        P3 = matrix_multiplication(A10+A11,B00)\n",
    "        P4 = matrix_multiplication(A11,B10-B00)\n",
    "        P5 = matrix_multiplication(A00+A11,B00+B11)\n",
    "        P6 = matrix_multiplication(A01-A11,B10+B11)\n",
    "        P7 = matrix_multiplication(A00-A10,B00+B01)\n",
    "        out[0:N//2,0:N//2] = P5+P4-P2+P6\n",
    "        out[0:N//2,N//2:] = P1+P2\n",
    "        out[N//2:,0:N//2] = P3+P4\n",
    "        out[N//2:,N//2:] = P1+P5-P3-P7\n",
    "        return out"
   ]
  },
  {
   "cell_type": "code",
   "execution_count": 29,
   "id": "0f6df7a0-216b-47dc-b83d-6adaaf551bfb",
   "metadata": {},
   "outputs": [
    {
     "data": {
      "text/plain": [
       "array([[2., 3., 4., 5.],\n",
       "       [0., 2., 0., 0.],\n",
       "       [0., 0., 2., 0.],\n",
       "       [0., 0., 0., 2.]])"
      ]
     },
     "execution_count": 29,
     "metadata": {},
     "output_type": "execute_result"
    }
   ],
   "source": [
    "subcubic_matrix_multiplication(A,B)"
   ]
  },
  {
   "cell_type": "code",
   "execution_count": null,
   "id": "dce77941-5b60-47a6-bbb7-ef09150c96a5",
   "metadata": {},
   "outputs": [],
   "source": []
  }
 ],
 "metadata": {
  "kernelspec": {
   "display_name": "Python 3 (ipykernel)",
   "language": "python",
   "name": "python3"
  },
  "language_info": {
   "codemirror_mode": {
    "name": "ipython",
    "version": 3
   },
   "file_extension": ".py",
   "mimetype": "text/x-python",
   "name": "python",
   "nbconvert_exporter": "python",
   "pygments_lexer": "ipython3",
   "version": "3.9.4"
  }
 },
 "nbformat": 4,
 "nbformat_minor": 5
}
