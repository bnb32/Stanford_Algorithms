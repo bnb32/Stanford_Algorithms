{
 "cells": [
  {
   "cell_type": "code",
   "execution_count": 3,
   "id": "21befbb4-05be-49c5-9590-b22e5b66f24f",
   "metadata": {},
   "outputs": [],
   "source": [
    "def merge(a,b):\n",
    "    i=0;j=0;\n",
    "    out=[0]*(len(a)+len(b))\n",
    "    \n",
    "    for k in range(0,len(a)+len(b)-1):\n",
    "        if i==len(a) and (j+1)<len(b):\n",
    "            out[k]=b[j]\n",
    "            j+=1\n",
    "        elif j==len(b) and (i+1)<len(a):\n",
    "            out[k]=a[i]\n",
    "            i+=1\n",
    "        elif a[i]<b[j]:\n",
    "            out[k]=a[i]\n",
    "            i+=1\n",
    "        elif b[j]<=a[i]:\n",
    "            out[k]=b[j]\n",
    "            j+=1\n",
    "\n",
    "    out[-1]=max((a[-1],b[-1]))\n",
    "\n",
    "    return out        \n",
    "\n",
    "def mergeSort(a):\n",
    "    left = a[0:len(a)//2]\n",
    "    right = a[len(a)//2:]\n",
    "    \n",
    "    if len(left)==1:\n",
    "        if len(right)==1:\n",
    "            pass\n",
    "        else:\n",
    "            if right[0]<=right[1]:\n",
    "                pass\n",
    "            else:\n",
    "                right = [right[1],right[0]]\n",
    "                \n",
    "        return merge(left,right) \n",
    "    \n",
    "    if len(right)==1:\n",
    "        if len(left)==1:\n",
    "            pass\n",
    "        else:\n",
    "            if left[0]<=left[1]:\n",
    "                pass\n",
    "            else:\n",
    "                left = [left[1],left[0]]            \n",
    "            \n",
    "        return merge(left,right)                 \n",
    "\n",
    "    else:\n",
    "\n",
    "        return merge(mergeSort(left),mergeSort(right))"
   ]
  },
  {
   "cell_type": "code",
   "execution_count": null,
   "id": "63ad41a6-65ca-4f55-8411-94283f4f24d2",
   "metadata": {},
   "outputs": [],
   "source": []
  },
  {
   "cell_type": "code",
   "execution_count": 4,
   "id": "7fb792af-931a-41ac-9a32-995d35b3f598",
   "metadata": {},
   "outputs": [
    {
     "name": "stdout",
     "output_type": "stream",
     "text": [
      "[1, 2, 3, 5, 6, 8, 10, 11, 13]\n"
     ]
    }
   ],
   "source": [
    "a=[1,3,2,10,8,5,11,6,13]\n",
    "\n",
    "print(mergeSort(a))\n",
    "\n",
    "#print(merge([1,3],[2,4]))"
   ]
  },
  {
   "cell_type": "code",
   "execution_count": null,
   "id": "03032ff7-4dd5-40c8-8f18-44ff4ed542b6",
   "metadata": {},
   "outputs": [],
   "source": []
  }
 ],
 "metadata": {
  "kernelspec": {
   "display_name": "Python 3 (ipykernel)",
   "language": "python",
   "name": "python3"
  },
  "language_info": {
   "codemirror_mode": {
    "name": "ipython",
    "version": 3
   },
   "file_extension": ".py",
   "mimetype": "text/x-python",
   "name": "python",
   "nbconvert_exporter": "python",
   "pygments_lexer": "ipython3",
   "version": "3.9.4"
  }
 },
 "nbformat": 4,
 "nbformat_minor": 5
}
