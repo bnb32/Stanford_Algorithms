{
 "cells": [
  {
   "cell_type": "code",
   "execution_count": 33,
   "id": "d2fdf7b5-9127-4d1d-9c7c-cc062a34dde6",
   "metadata": {},
   "outputs": [],
   "source": [
    "import numpy as np\n",
    "import random"
   ]
  },
  {
   "cell_type": "code",
   "execution_count": 272,
   "id": "80ba94e2-c358-4faf-a309-2ca677d48585",
   "metadata": {},
   "outputs": [],
   "source": []
  },
  {
   "cell_type": "code",
   "execution_count": 292,
   "id": "210db9bf-3176-4eeb-a746-4cfd513da5a8",
   "metadata": {},
   "outputs": [],
   "source": [
    "def medianOfThree(a):\n",
    "    \n",
    "    i0=0\n",
    "    i1=int(np.ceil(len(a)/2-1))\n",
    "    i2=len(a)-1\n",
    "    \n",
    "    if a[i1]<a[i0]<a[i2]:\n",
    "        return i0\n",
    "    elif a[i2]<a[i0]<a[i1]:\n",
    "        return i0\n",
    "    elif a[i0]<a[i1]<a[i2]:\n",
    "        return i1\n",
    "    elif a[i2]<a[i1]<a[i0]:\n",
    "        return i1\n",
    "    else: return i2\n",
    "\n",
    "def pickPivot(a):\n",
    "    \n",
    "    #i = random.randint(0,len(a)-1)\n",
    "    #i=len(a)-1\n",
    "    i = medianOfThree(a)\n",
    "    #i=0\n",
    "    \n",
    "    a0 = a[0]\n",
    "    ap = a[i]\n",
    "    \n",
    "    a[0] = ap\n",
    "    a[i] = a0\n",
    "    \n",
    "    #print(\"pivot: \",ap)\n",
    "    \n",
    "    return a\n",
    "\n",
    "def partition(a):\n",
    "    \n",
    "    if len(a)==1: return a\n",
    "    \n",
    "    #print(a)\n",
    "\n",
    "    a = pickPivot(a)\n",
    "        \n",
    "    i=0\n",
    "    for j in range(1,len(a)):\n",
    "        if a[j]>a[0]: \n",
    "            pass\n",
    "        else:\n",
    "            ai=a[i+1]\n",
    "            aj=a[j]\n",
    "            a[i+1]=aj\n",
    "            a[j]=ai\n",
    "            i+=1\n",
    "    \n",
    "    global count\n",
    "    count += len(a)-1\n",
    "    \n",
    "    ap=a[0]\n",
    "    ai=a[i]\n",
    "    a[0]=ai\n",
    "    a[i]=ap\n",
    "\n",
    "    if 0<i<len(a)-1:\n",
    "        new_part = partition(a[:i])+[a[i]]+partition(a[i+1:])\n",
    "    elif i==0:\n",
    "        new_part = [a[i]]+partition(a[i+1:])\n",
    "    else:\n",
    "        new_part = partition(a[:i])+[a[i]]\n",
    "    return new_part    "
   ]
  },
  {
   "cell_type": "code",
   "execution_count": 293,
   "id": "4f202943-0b5a-44f5-b449-8f78540481bf",
   "metadata": {},
   "outputs": [
    {
     "name": "stdout",
     "output_type": "stream",
     "text": [
      "138382\n"
     ]
    }
   ],
   "source": [
    "f = open('./QuickSort.txt','r')\n",
    "lines = f.readlines()\n",
    "lines = [int(l) for l in lines]\n",
    "\n",
    "#lines = [2,4,6,10,3,5,1]\n",
    "\n",
    "count=0\n",
    "part = partition(lines)\n",
    "print(count)"
   ]
  },
  {
   "cell_type": "code",
   "execution_count": null,
   "id": "426a3f20-f6b7-4d23-851d-d93a170b1a9d",
   "metadata": {},
   "outputs": [],
   "source": []
  },
  {
   "cell_type": "code",
   "execution_count": null,
   "id": "c09b0f8d-03a9-4fe4-9528-b11f411d6b23",
   "metadata": {},
   "outputs": [],
   "source": []
  }
 ],
 "metadata": {
  "kernelspec": {
   "display_name": "Python 3",
   "language": "python",
   "name": "python3"
  },
  "language_info": {
   "codemirror_mode": {
    "name": "ipython",
    "version": 3
   },
   "file_extension": ".py",
   "mimetype": "text/x-python",
   "name": "python",
   "nbconvert_exporter": "python",
   "pygments_lexer": "ipython3",
   "version": "3.8.8"
  }
 },
 "nbformat": 4,
 "nbformat_minor": 5
}
