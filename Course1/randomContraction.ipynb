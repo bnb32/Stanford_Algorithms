{
 "cells": [
  {
   "cell_type": "code",
   "execution_count": 743,
   "id": "2049a32a-534d-44cf-a5fa-a2da2e0e0052",
   "metadata": {},
   "outputs": [],
   "source": [
    "import numpy as np\n",
    "import random\n",
    "import time\n",
    "import datetime\n",
    "\n",
    "#!pip install networkx"
   ]
  },
  {
   "cell_type": "code",
   "execution_count": 668,
   "id": "f942a189-1bf8-445f-ad92-393e0b90a345",
   "metadata": {},
   "outputs": [],
   "source": [
    "#import networkx as nx"
   ]
  },
  {
   "cell_type": "code",
   "execution_count": 914,
   "id": "cf126746-5fd6-49c9-8b2c-ea7cd1ed140d",
   "metadata": {},
   "outputs": [],
   "source": [
    "f = open('./kargerMinCut.txt','r')\n",
    "lines = f.readlines()\n",
    "Edges = []\n",
    "for l in lines:\n",
    "    tmp = l.strip('\\t\\n').split('\\t')\n",
    "    for i in range(1,len(tmp)):\n",
    "        e = [tmp[0],tmp[i]]\n",
    "        if e not in Edges and [e[1],e[0]] not in Edges:\n",
    "            Edges.append(e)"
   ]
  },
  {
   "cell_type": "code",
   "execution_count": 887,
   "id": "e75395ce-eb9e-4317-90f0-1c2e3b7e1418",
   "metadata": {},
   "outputs": [],
   "source": [
    "f = open('./minCutTest2.txt','r')\n",
    "lines = f.readlines()\n",
    "for l in lines:\n",
    "    tmp = l.strip('\\t\\n').split(' ')\n",
    "    for i in range(1,len(tmp)):\n",
    "        e = [tmp[0],tmp[i]]\n",
    "        if e not in Edges and [e[1],e[0]] not in Edges:\n",
    "            Edges.append(e)"
   ]
  },
  {
   "cell_type": "code",
   "execution_count": 948,
   "id": "0ae5d39a-fca7-498e-90e6-11978d058e53",
   "metadata": {},
   "outputs": [],
   "source": [
    "class Graph:\n",
    "\n",
    "    def __init__(self):\n",
    "        self.nodes = []\n",
    "        self.edges = []\n",
    "    \n",
    "    def add(self,edge):\n",
    "        \n",
    "        if edge not in self.edges:\n",
    "            self.edges.append(edge)\n",
    "            \n",
    "        if edge[0] not in self.nodes:\n",
    "            self.nodes.append(edge[0])\n",
    "        \n",
    "        if edge[1] not in self.nodes:\n",
    "            self.nodes.append(edge[1])\n",
    "        \n",
    "    def contract(self,edge):\n",
    "        self.nodes.remove(edge[0])\n",
    "        self.edges.remove(edge)\n",
    "        for i,e in enumerate(self.edges):\n",
    "            if edge[0] in e:\n",
    "                self.edges[i] = [x if x!=edge[0] else edge[1] for x in self.edges[i]]\n",
    "        \n",
    "        self.edges = [[x[0],x[1]] for x in self.edges if x[0] != x[1]]\n",
    "    \n",
    "    def copy(self):\n",
    "        g = Graph()\n",
    "        g.edges = self.edges.copy()\n",
    "        g.nodes = self.nodes.copy()\n",
    "        return g\n",
    "\n",
    "def randomContraction(g):\n",
    "    e = random.randint(0,len(g.edges)-1)\n",
    "    g.contract(g.edges[e])\n",
    "    return g\n",
    "\n",
    "def minCut(g):\n",
    "    while (len(g.nodes)>2):\n",
    "        g = randomContraction(g)\n",
    "    return (len(g.edges))"
   ]
  },
  {
   "cell_type": "code",
   "execution_count": 949,
   "id": "c8706971-0bee-4f78-a60f-f981d63f8707",
   "metadata": {},
   "outputs": [
    {
     "name": "stdout",
     "output_type": "stream",
     "text": [
      "nodes:  200\n",
      "edges:  2517\n"
     ]
    }
   ],
   "source": [
    "graph = Graph()\n",
    "for e in Edges:\n",
    "    graph.add([e[0],e[1]])\n",
    "print(\"nodes: \",len(graph.nodes))  \n",
    "print(\"edges: \",len(graph.edges))"
   ]
  },
  {
   "cell_type": "code",
   "execution_count": 950,
   "id": "ed9a5b51-b716-4a3b-8269-e31cd1671649",
   "metadata": {},
   "outputs": [],
   "source": [
    "cuts = []"
   ]
  },
  {
   "cell_type": "code",
   "execution_count": 952,
   "id": "51646e80-8cfe-4e9c-8a21-45078b21b605",
   "metadata": {},
   "outputs": [
    {
     "name": "stdout",
     "output_type": "stream",
     "text": [
      "Done: 1.00000, Remaining: 0:00:00                  \n",
      " min cuts:  17\n"
     ]
    }
   ],
   "source": [
    "runs=100\n",
    "for i in range(runs):\n",
    "    start = time.time()\n",
    "    \n",
    "    g = graph.copy()    \n",
    "    cuts.append(minCut(g))\n",
    "    \n",
    "    end = time.time()\n",
    "    \n",
    "    remaining_seconds = (end-start)*(runs-i-1)\n",
    "    print(\"Done: {:.5f}, Remaining: {:<25}\".format((i+1)/runs,str(datetime.timedelta(seconds=remaining_seconds))),end=\"\\r\")\n",
    "\n",
    "print(\"\\nmin cuts: \",min(cuts))    "
   ]
  },
  {
   "cell_type": "code",
   "execution_count": 947,
   "id": "82a3bc3c-320b-4d7b-ad26-f705b653f88d",
   "metadata": {},
   "outputs": [
    {
     "data": {
      "text/plain": [
       "['188', '143']"
      ]
     },
     "execution_count": 947,
     "metadata": {},
     "output_type": "execute_result"
    }
   ],
   "source": [
    "graph.nodes"
   ]
  },
  {
   "cell_type": "code",
   "execution_count": null,
   "id": "3b1975ff-76e9-4db8-98bb-1279807226bd",
   "metadata": {},
   "outputs": [],
   "source": []
  }
 ],
 "metadata": {
  "kernelspec": {
   "display_name": "Python 3",
   "language": "python",
   "name": "python3"
  },
  "language_info": {
   "codemirror_mode": {
    "name": "ipython",
    "version": 3
   },
   "file_extension": ".py",
   "mimetype": "text/x-python",
   "name": "python",
   "nbconvert_exporter": "python",
   "pygments_lexer": "ipython3",
   "version": "3.8.8"
  }
 },
 "nbformat": 4,
 "nbformat_minor": 5
}
