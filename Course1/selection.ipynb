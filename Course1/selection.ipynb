{
 "cells": [
  {
   "cell_type": "code",
   "execution_count": 4,
   "id": "f98c7b06-b6cb-4834-943a-7cbdb05c1c97",
   "metadata": {},
   "outputs": [],
   "source": [
    "import random"
   ]
  },
  {
   "cell_type": "code",
   "execution_count": 41,
   "id": "2f9ab7f2-5ef5-4793-bf88-169bedbb2379",
   "metadata": {},
   "outputs": [],
   "source": [
    "def pickPivot(a):\n",
    "    \n",
    "    i = random.randint(0,len(a)-1)\n",
    "    #i=len(a)-1\n",
    "    #i=0\n",
    "    \n",
    "    a0 = a[0]\n",
    "    ap = a[i]\n",
    "    \n",
    "    a[0] = ap\n",
    "    a[i] = a0\n",
    "    \n",
    "    #print(\"pivot: \",ap)\n",
    "    \n",
    "    return a\n",
    "\n",
    "def selection(a,order):\n",
    "    \n",
    "    order = min((order,len(a)))\n",
    "    if len(a)==1: return a\n",
    "\n",
    "    a = pickPivot(a)\n",
    "        \n",
    "    i=0\n",
    "    for j in range(1,len(a)):\n",
    "        if a[j]>a[0]: \n",
    "            pass\n",
    "        else:\n",
    "            ai=a[i+1]\n",
    "            aj=a[j]\n",
    "            a[i+1]=aj\n",
    "            a[j]=ai\n",
    "            i+=1\n",
    "    \n",
    "    ap=a[0]\n",
    "    ai=a[i]\n",
    "    a[0]=ai\n",
    "    a[i]=ap\n",
    "    \n",
    "    if i+1==order: return [ap]\n",
    "    \n",
    "    if order>i+1:\n",
    "        order-=i+1\n",
    "        return selection(a[i+1:],order)\n",
    "    else:\n",
    "        return selection(a[:i],order) "
   ]
  },
  {
   "cell_type": "code",
   "execution_count": 42,
   "id": "10e1a920-1417-4410-8fd0-d0d994cae0fd",
   "metadata": {},
   "outputs": [
    {
     "name": "stdout",
     "output_type": "stream",
     "text": [
      "[10]\n"
     ]
    }
   ],
   "source": [
    "lines = [2,4,6,10,3,5,1]\n",
    "\n",
    "part = selection(lines,8)\n",
    "print(part)"
   ]
  }
 ],
 "metadata": {
  "kernelspec": {
   "display_name": "Python 3",
   "language": "python",
   "name": "python3"
  },
  "language_info": {
   "codemirror_mode": {
    "name": "ipython",
    "version": 3
   },
   "file_extension": ".py",
   "mimetype": "text/x-python",
   "name": "python",
   "nbconvert_exporter": "python",
   "pygments_lexer": "ipython3",
   "version": "3.8.8"
  }
 },
 "nbformat": 4,
 "nbformat_minor": 5
}
