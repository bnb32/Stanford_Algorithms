{
 "cells": [
  {
   "cell_type": "code",
   "execution_count": 4,
   "id": "7f036970-0309-4650-a741-cb582aba5e15",
   "metadata": {},
   "outputs": [],
   "source": [
    "def binarySearch(a,key):\n",
    "    if not a: return None\n",
    "    mid = len(a)//2\n",
    "    if a[mid] == key:\n",
    "        return mid\n",
    "    elif key < a[mid]:\n",
    "        return binarySearch(a[:mid],key)\n",
    "    else:\n",
    "        return binarySearch(a[mid+1:],key)"
   ]
  },
  {
   "cell_type": "code",
   "execution_count": 7,
   "id": "e07ee979-babd-4bdf-9193-ff507d1158ab",
   "metadata": {},
   "outputs": [
    {
     "name": "stdout",
     "output_type": "stream",
     "text": [
      "None\n"
     ]
    }
   ],
   "source": [
    "a = [1,3,4,5,8]\n",
    "i = binarySearch(a,9)\n",
    "print(i)"
   ]
  },
  {
   "cell_type": "code",
   "execution_count": null,
   "id": "14fc25ab-eb1e-4c99-8364-2486e2f1ce17",
   "metadata": {},
   "outputs": [],
   "source": []
  }
 ],
 "metadata": {
  "kernelspec": {
   "display_name": "Python 3 (ipykernel)",
   "language": "python",
   "name": "python3"
  },
  "language_info": {
   "codemirror_mode": {
    "name": "ipython",
    "version": 3
   },
   "file_extension": ".py",
   "mimetype": "text/x-python",
   "name": "python",
   "nbconvert_exporter": "python",
   "pygments_lexer": "ipython3",
   "version": "3.9.4"
  }
 },
 "nbformat": 4,
 "nbformat_minor": 5
}
