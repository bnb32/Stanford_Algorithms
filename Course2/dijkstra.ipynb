{
 "cells": [
  {
   "cell_type": "code",
   "execution_count": 112,
   "id": "76466c6b-c218-49ad-9e4a-1c7fdb78dba0",
   "metadata": {},
   "outputs": [],
   "source": [
    "#!pip install networkx\n",
    "import networkx as nx\n",
    "import matplotlib.pyplot as plt\n",
    "import sys\n",
    "import threading\n",
    "import numpy as np\n",
    "import heapq\n",
    "import itertools"
   ]
  },
  {
   "cell_type": "code",
   "execution_count": 83,
   "id": "c879dce0-9260-4d8e-9c5e-9d4c38c39e4e",
   "metadata": {},
   "outputs": [],
   "source": [
    "class Graph:\n",
    "    def __init__(self,adj={}):\n",
    "        self.adj = adj\n",
    "        self.nodes = []\n",
    "        self.nodes = list(adj)\n",
    "        for n in self.adj:\n",
    "            self.nodes += list(self.adj[n])\n",
    "        self.nodes = list(set(self.nodes))\n",
    "\n",
    "        for n in self.nodes:\n",
    "            if n not in self.adj:\n",
    "                self.adj[n] = {}"
   ]
  },
  {
   "cell_type": "code",
   "execution_count": 311,
   "id": "f35f2d21-ae18-482d-aa00-b7de9c56297b",
   "metadata": {},
   "outputs": [],
   "source": [
    "nodes = {'s':{'v':1,'w':4},\n",
    "         'v':{'t':6,'w':2},\n",
    "         'w':{'t':3},\n",
    "         't':{}}"
   ]
  },
  {
   "cell_type": "code",
   "execution_count": 312,
   "id": "d8246eee-ae16-4c60-b63d-272758a684a6",
   "metadata": {},
   "outputs": [],
   "source": [
    "g = Graph(nodes)"
   ]
  },
  {
   "cell_type": "code",
   "execution_count": 313,
   "id": "a5912042-f8bb-4ce7-b7eb-353ebf058d6f",
   "metadata": {},
   "outputs": [
    {
     "data": {
      "text/plain": [
       "{'s': {'v': 1, 'w': 4}, 'v': {'t': 6, 'w': 2}, 'w': {'t': 3}, 't': {}}"
      ]
     },
     "execution_count": 313,
     "metadata": {},
     "output_type": "execute_result"
    }
   ],
   "source": [
    "g.adj"
   ]
  },
  {
   "cell_type": "code",
   "execution_count": 314,
   "id": "acae43ac-64a5-49be-91a2-60d0b09e440f",
   "metadata": {},
   "outputs": [],
   "source": [
    "X=[]\n",
    "A = {}\n",
    "B = {}\n",
    "\n",
    "def greedy(g,X,V):\n",
    "    val = np.inf\n",
    "    v_star = ''\n",
    "    w_star = ''\n",
    "    \n",
    "    for v in X:\n",
    "        for w in V:\n",
    "            if w in g.adj[v]:\n",
    "                tmp = A[v] + g.adj[v][w]\n",
    "                if tmp < val:\n",
    "                    val = tmp\n",
    "                    v_star = v\n",
    "                    w_star = w\n",
    "    return v_star, w_star                    \n",
    "\n",
    "def dijkstra(g,ith_node):\n",
    "    V = g.nodes.copy()\n",
    "    X.append(ith_node)\n",
    "    V.remove(ith_node)\n",
    "    \n",
    "    A[ith_node] = 0\n",
    "    B[ith_node] = [ith_node]\n",
    "    \n",
    "    while V:\n",
    "        v,w = greedy(g,X,V)\n",
    "        X.append(w)\n",
    "        V.remove(w)\n",
    "        A[w] = A[v] + g.adj[v][w]\n",
    "        B[w] = B[v] + [w]\n",
    "    return A, B    \n",
    "        \n",
    "    "
   ]
  },
  {
   "cell_type": "code",
   "execution_count": 315,
   "id": "9ee9cabb-a1b8-41fc-82af-40895cd724bb",
   "metadata": {},
   "outputs": [],
   "source": [
    "class heap:\n",
    "    \n",
    "    def __init__(self):\n",
    "        self.Q = []\n",
    "        self.V = []\n",
    "        \n",
    "        self.entry_finder = {}  \n",
    "        self.REMOVED = '<removed>'\n",
    "        self.counter = itertools.count()\n",
    "       \n",
    "    def push(self,v,priority=0):\n",
    "        if v in self.entry_finder:\n",
    "            self.remove(v)\n",
    "        count = next(self.counter)\n",
    "        entry = [priority, count, v]\n",
    "        self.entry_finder[v] = entry\n",
    "        heapq.heappush(self.Q, entry)\n",
    "        self.V.append(v)\n",
    "\n",
    "    def remove(self,v):\n",
    "        entry = self.entry_finder.pop(v)\n",
    "        entry[-1] = self.REMOVED\n",
    "        self.V.remove(v)\n",
    "\n",
    "    def pop(self):\n",
    "        while self.Q:\n",
    "            priority, count, v = heapq.heappop(self.Q)\n",
    "            if v is not self.REMOVED:\n",
    "                del self.entry_finder[v]\n",
    "                self.V.remove(v)\n",
    "                return v\n",
    "        raise KeyError('pop from an empty priority queue')\n",
    "    \n",
    "    def update(self,v,priority=0):\n",
    "        self.remove(v)\n",
    "        self.push(v,priority)\n",
    "        \n",
    "    def is_empty(self):\n",
    "        if self.V:\n",
    "            return False\n",
    "        return True\n",
    "        "
   ]
  },
  {
   "cell_type": "markdown",
   "id": "56c53c4f-a487-42e1-a0a2-8f112f367a8a",
   "metadata": {},
   "source": [
    "**Dijkstra with Heap**"
   ]
  },
  {
   "cell_type": "code",
   "execution_count": 316,
   "id": "e7b13e46-1263-4145-a733-9437215ddd74",
   "metadata": {},
   "outputs": [],
   "source": [
    "A = {}\n",
    "B = {}                    \n",
    "\n",
    "def dijkstra(g,ith_node):\n",
    "    A[ith_node] = 0\n",
    "    h = heap()\n",
    "    \n",
    "    for v in g.nodes:\n",
    "        if v != ith_node:\n",
    "            A[v] = np.inf\n",
    "        h.push(v,A[v])\n",
    "\n",
    "    while not h.is_empty():\n",
    "        u = h.pop()\n",
    "        for v in g.adj[u]:\n",
    "            if v in h.V:\n",
    "                alt = A[u] + g.adj[u][v]\n",
    "                if alt < A[v]:\n",
    "                    h.update(v,alt)\n",
    "                    A[v] = alt                \n",
    "                    \n",
    "    return A        "
   ]
  },
  {
   "cell_type": "code",
   "execution_count": 317,
   "id": "db3d936c-b636-4947-ac97-0e876bfc5533",
   "metadata": {},
   "outputs": [
    {
     "data": {
      "image/png": "[encoded data removed]",
      "text/plain": [
       "<Figure size 432x288 with 1 Axes>"
      ]
     },
     "metadata": {},
     "output_type": "display_data"
    }
   ],
   "source": [
    "gnx = nx.DiGraph()\n",
    "for u in g.adj:\n",
    "    for v in g.adj[u]:\n",
    "        gnx.add_edge(u,v,length=g.adj[u][v])\n",
    "pos = nx.spring_layout(gnx)\n",
    "nx.draw(gnx,pos,with_labels=True)\n",
    "nx.draw_networkx_edge_labels(gnx,pos)\n",
    "plt.show()"
   ]
  },
  {
   "cell_type": "code",
   "execution_count": 318,
   "id": "0ae758fc-c3d6-480a-94d5-fb5a26626a3c",
   "metadata": {},
   "outputs": [],
   "source": [
    "f = open('dijkstraData.txt','r')\n",
    "lines = f.readlines()"
   ]
  },
  {
   "cell_type": "code",
   "execution_count": 296,
   "id": "cc9ca267-0ff7-4770-81d8-c6ff2991adff",
   "metadata": {},
   "outputs": [],
   "source": [
    "nodes = {}"
   ]
  },
  {
   "cell_type": "code",
   "execution_count": 299,
   "id": "5af1653d-28df-4145-b1a5-46941bedf70b",
   "metadata": {},
   "outputs": [],
   "source": [
    "for line in lines:\n",
    "    tmp = line.strip('\\t\\n').split('\\t')\n",
    "    nodes[int(tmp[0])] = {}\n",
    "    for pair in tmp[1:]:\n",
    "        [v,l] = pair.split(',')\n",
    "        nodes[int(tmp[0])][int(v)] = int(l)\n",
    "    "
   ]
  },
  {
   "cell_type": "code",
   "execution_count": 300,
   "id": "855f874c-807b-415a-9075-eab2ad77afff",
   "metadata": {},
   "outputs": [],
   "source": [
    "g = Graph(nodes)"
   ]
  },
  {
   "cell_type": "code",
   "execution_count": 319,
   "id": "e6f848db-46e5-4b9a-817b-70090a297c5b",
   "metadata": {},
   "outputs": [],
   "source": [
    "distances = dijkstra(g,1)"
   ]
  },
  {
   "cell_type": "code",
   "execution_count": 310,
   "id": "39cc1604-8326-4e63-95a6-93278606320c",
   "metadata": {},
   "outputs": [
    {
     "name": "stdout",
     "output_type": "stream",
     "text": [
      "[2599, 2610, 2947, 2052, 2367, 2399, 2029, 2442, 2505, 3068]\n"
     ]
    }
   ],
   "source": [
    "arr = [7,37,59,82,99,115,133,165,188,197]\n",
    "entry = []\n",
    "for a in arr:\n",
    "    entry.append(distances[a])  \n",
    "print(entry)"
   ]
  },
  {
   "cell_type": "code",
   "execution_count": 320,
   "id": "d9d5fb93-7200-4210-a46a-e16f69949d7d",
   "metadata": {},
   "outputs": [
    {
     "data": {
      "text/plain": [
       "['w', 's', 'v', 't']"
      ]
     },
     "execution_count": 320,
     "metadata": {},
     "output_type": "execute_result"
    }
   ],
   "source": [
    "g.nodes"
   ]
  },
  {
   "cell_type": "code",
   "execution_count": null,
   "id": "f7925fc1-fdbe-456f-9a3c-1eb54ec07a42",
   "metadata": {},
   "outputs": [],
   "source": []
  }
 ],
 "metadata": {
  "kernelspec": {
   "display_name": "Python 3 (ipykernel)",
   "language": "python",
   "name": "python3"
  },
  "language_info": {
   "codemirror_mode": {
    "name": "ipython",
    "version": 3
   },
   "file_extension": ".py",
   "mimetype": "text/x-python",
   "name": "python",
   "nbconvert_exporter": "python",
   "pygments_lexer": "ipython3",
   "version": "3.9.4"
  }
 },
 "nbformat": 4,
 "nbformat_minor": 5
}
