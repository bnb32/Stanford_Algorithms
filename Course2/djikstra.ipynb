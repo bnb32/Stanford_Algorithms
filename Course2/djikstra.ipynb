{
 "cells": [
  {
   "cell_type": "code",
   "execution_count": 16,
   "id": "76466c6b-c218-49ad-9e4a-1c7fdb78dba0",
   "metadata": {},
   "outputs": [],
   "source": [
    "#!pip install networkx\n",
    "import networkx as nx\n",
    "import matplotlib.pyplot as plt\n",
    "import sys\n",
    "import threading\n",
    "import numpy as np"
   ]
  },
  {
   "cell_type": "code",
   "execution_count": 22,
   "id": "c879dce0-9260-4d8e-9c5e-9d4c38c39e4e",
   "metadata": {},
   "outputs": [],
   "source": [
    "class Graph:\n",
    "    def __init__(self,adj={}):\n",
    "        self.adj = adj\n",
    "        self.nodes = []\n",
    "        self.nodes = list(adj)\n",
    "        for n in self.adj:\n",
    "            self.nodes += list(self.adj[n])\n",
    "        self.nodes = list(set(self.nodes))\n",
    "\n",
    "        for n in self.nodes:\n",
    "            if n not in self.adj:\n",
    "                self.adj[n] = {}"
   ]
  },
  {
   "cell_type": "code",
   "execution_count": 50,
   "id": "f35f2d21-ae18-482d-aa00-b7de9c56297b",
   "metadata": {},
   "outputs": [],
   "source": [
    "nodes = {'s':{'v':1,'w':4},\n",
    "         'v':{'t':6,'w':2},\n",
    "         'w':{'t':3},\n",
    "         't':{}}"
   ]
  },
  {
   "cell_type": "code",
   "execution_count": 51,
   "id": "d8246eee-ae16-4c60-b63d-272758a684a6",
   "metadata": {},
   "outputs": [],
   "source": [
    "g = Graph(nodes)"
   ]
  },
  {
   "cell_type": "code",
   "execution_count": 52,
   "id": "a5912042-f8bb-4ce7-b7eb-353ebf058d6f",
   "metadata": {},
   "outputs": [
    {
     "data": {
      "text/plain": [
       "{'s': {'v': 1, 'w': 4}, 'v': {'t': 6, 'w': 2}, 'w': {'t': 3}, 't': {}}"
      ]
     },
     "execution_count": 52,
     "metadata": {},
     "output_type": "execute_result"
    }
   ],
   "source": [
    "g.adj"
   ]
  },
  {
   "cell_type": "code",
   "execution_count": 67,
   "id": "acae43ac-64a5-49be-91a2-60d0b09e440f",
   "metadata": {},
   "outputs": [],
   "source": [
    "X=[]\n",
    "A = {}\n",
    "B = {}\n",
    "\n",
    "def greedy(g,X,V):\n",
    "    val = np.inf\n",
    "    v_star = ''\n",
    "    w_star = ''\n",
    "    \n",
    "    for v in X:\n",
    "        for w in V:\n",
    "            if w in g.adj[v]:\n",
    "                tmp = A[v] + g.adj[v][w]\n",
    "                if tmp < val:\n",
    "                    val = tmp\n",
    "                    v_star = v\n",
    "                    w_star = w\n",
    "    return v_star, w_star                    \n",
    "\n",
    "def dijkstra(g,ith_node):\n",
    "    V = g.nodes.copy()\n",
    "    X.append(ith_node)\n",
    "    V.remove(ith_node)\n",
    "    \n",
    "    A[ith_node] = 0\n",
    "    B[ith_node] = [ith_node]\n",
    "    \n",
    "    while V:\n",
    "        v,w = greedy(g,X,V)\n",
    "        X.append(w)\n",
    "        V.remove(w)\n",
    "        A[w] = A[v] + g.adj[v][w]\n",
    "        B[w] = B[v] + [w]\n",
    "    return A, B    \n",
    "        \n",
    "    "
   ]
  },
  {
   "cell_type": "code",
   "execution_count": 68,
   "id": "db3d936c-b636-4947-ac97-0e876bfc5533",
   "metadata": {},
   "outputs": [
    {
     "data": {
      "image/png": "[encoded data removed]",
      "text/plain": [
       "<Figure size 432x288 with 1 Axes>"
      ]
     },
     "metadata": {},
     "output_type": "display_data"
    }
   ],
   "source": [
    "gnx = nx.DiGraph()\n",
    "for u in g.adj:\n",
    "    for v in g.adj[u]:\n",
    "        gnx.add_edge(u,v,length=g.adj[u][v])\n",
    "nx.draw(gnx,with_labels=True)\n",
    "plt.show()"
   ]
  },
  {
   "cell_type": "code",
   "execution_count": 69,
   "id": "99c8ae0e-c478-4292-9255-2f66292d95b7",
   "metadata": {},
   "outputs": [
    {
     "data": {
      "text/plain": [
       "'\\ngnx_rev = nx.DiGraph()\\ng.reverse()\\nfor u in g.rev_adj:\\n    for v in g.rev_adj[u]:\\n        gnx_rev.add_edge(u,v)\\nnx.draw(gnx_rev,with_labels=False)\\nplt.show()\\n'"
      ]
     },
     "execution_count": 69,
     "metadata": {},
     "output_type": "execute_result"
    }
   ],
   "source": [
    "'''\n",
    "gnx_rev = nx.DiGraph()\n",
    "g.reverse()\n",
    "for u in g.rev_adj:\n",
    "    for v in g.rev_adj[u]:\n",
    "        gnx_rev.add_edge(u,v)\n",
    "nx.draw(gnx_rev,with_labels=False)\n",
    "plt.show()\n",
    "'''"
   ]
  },
  {
   "cell_type": "code",
   "execution_count": 70,
   "id": "e6f848db-46e5-4b9a-817b-70090a297c5b",
   "metadata": {},
   "outputs": [
    {
     "data": {
      "text/plain": [
       "({'s': 0, 'v': 1, 'w': 3, 't': 6},\n",
       " {'s': ['s'],\n",
       "  'v': ['s', 'v'],\n",
       "  'w': ['s', 'v', 'w'],\n",
       "  't': ['s', 'v', 'w', 't']})"
      ]
     },
     "execution_count": 70,
     "metadata": {},
     "output_type": "execute_result"
    }
   ],
   "source": [
    "dijkstra(g,'s')"
   ]
  },
  {
   "cell_type": "code",
   "execution_count": null,
   "id": "39cc1604-8326-4e63-95a6-93278606320c",
   "metadata": {},
   "outputs": [],
   "source": []
  }
 ],
 "metadata": {
  "kernelspec": {
   "display_name": "Python 3 (ipykernel)",
   "language": "python",
   "name": "python3"
  },
  "language_info": {
   "codemirror_mode": {
    "name": "ipython",
    "version": 3
   },
   "file_extension": ".py",
   "mimetype": "text/x-python",
   "name": "python",
   "nbconvert_exporter": "python",
   "pygments_lexer": "ipython3",
   "version": "3.9.4"
  }
 },
 "nbformat": 4,
 "nbformat_minor": 5
}
