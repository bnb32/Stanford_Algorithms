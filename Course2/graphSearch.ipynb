{
 "cells": [
  {
   "cell_type": "code",
   "execution_count": 25,
   "id": "76466c6b-c218-49ad-9e4a-1c7fdb78dba0",
   "metadata": {},
   "outputs": [],
   "source": [
    "#!pip install networkx\n",
    "import sys"
   ]
  },
  {
   "cell_type": "code",
   "execution_count": 26,
   "id": "c879dce0-9260-4d8e-9c5e-9d4c38c39e4e",
   "metadata": {},
   "outputs": [],
   "source": [
    "class Graph:\n",
    "    def __init__(self,adj={}):\n",
    "        self.adj = adj\n",
    "        self.nodes = []\n",
    "        self.nodes = list(adj)\n",
    "        for n in self.adj:\n",
    "            self.nodes += self.adj[n]\n",
    "        self.nodes = list(set(self.nodes))\n",
    "\n",
    "        for n in self.nodes:\n",
    "            if n not in self.adj:\n",
    "                self.adj[n] = []\n",
    "        self.rev_adj = {}\n",
    "    def rename(self,new_names):\n",
    "        tmp = {}\n",
    "        for n in self.adj:\n",
    "            tmp[new_names[n]] = self.adj[n]\n",
    "        self.adj = tmp\n",
    "        for n in self.adj:\n",
    "            for i,u in enumerate(self.adj[n]):\n",
    "                self.adj[n][i] = new_names[u]\n",
    "        self.nodes = [new_names[n] for n in self.nodes]        \n",
    "    def reverse(self):\n",
    "        new_adj = {}\n",
    "        for n in self.adj:\n",
    "            if n not in new_adj:\n",
    "                new_adj[n] = []\n",
    "            for u in self.adj[n]:\n",
    "                if u not in new_adj: \n",
    "                    new_adj[u] = []\n",
    "                new_adj[u].append(n)\n",
    "        self.rev_adj = new_adj        \n",
    "        return Graph(new_adj)   "
   ]
  },
  {
   "cell_type": "code",
   "execution_count": 27,
   "id": "e250c441-2bf4-47c7-9e74-32b40ebbe94e",
   "metadata": {},
   "outputs": [],
   "source": [
    "def BFS(g,ith_node):\n",
    "    \n",
    "    global explored\n",
    "    queue = [ith_node]\n",
    "    explored[ith_node] = True\n",
    "    \n",
    "    while len(queue)>0:\n",
    "        node = queue.pop(0)\n",
    "        for w in g.adj[node]:\n",
    "            if not explored[w]:\n",
    "                explored[w]=True\n",
    "                queue.append(w)\n",
    "                \n",
    "\n",
    "def DFS(g,ith_node):\n",
    "    \n",
    "    global current_label\n",
    "    global numbers\n",
    "    global explored\n",
    "    global s,t\n",
    "    global leader\n",
    "    global times\n",
    "    \n",
    "    leader[ith_node] = s\n",
    "    explored[ith_node] = True\n",
    "    \n",
    "    for v in g.adj[ith_node]:\n",
    "        if not explored[v]:\n",
    "            DFS(g,v)\n",
    "            \n",
    "    numbers[ith_node] = current_label\n",
    "    current_label-=1          \n",
    "    t+=1\n",
    "    times[ith_node] = t    "
   ]
  },
  {
   "cell_type": "code",
   "execution_count": 27,
   "id": "ee7472ca-ae18-4b80-8f89-d2360337eaad",
   "metadata": {},
   "outputs": [],
   "source": [
    "def shortestPaths(g,ith_node):\n",
    "    \n",
    "    global explored\n",
    "    global paths\n",
    "    explored = {}\n",
    "    paths = {}\n",
    "    \n",
    "    for n in g.adj:\n",
    "        explored[n] = False\n",
    "    \n",
    "    queue = [ith_node]\n",
    "    explored[ith_node] = True\n",
    "    paths[ith_node] = 0\n",
    "    \n",
    "    while len(queue)>0:\n",
    "        node = queue.pop(0)\n",
    "        for w in g.adj[node]:\n",
    "            if not explored[w]:\n",
    "                explored[w]=True\n",
    "                queue.append(w)\n",
    "                \n",
    "                #shortest paths\n",
    "                paths[w] = 1+paths[node]\n",
    "\n",
    "def connectedComponents(g):\n",
    "    \n",
    "    global explored\n",
    "    explored = {}\n",
    "    \n",
    "    for n in g.adj:\n",
    "        explored[n] = False\n",
    "    \n",
    "    count=0\n",
    "    for n in g.adj:\n",
    "        if not explored[n]:\n",
    "            count+=1\n",
    "            BFS(g,n)\n",
    "\n",
    "    return count        \n",
    "\n",
    "\n",
    "def topoSort(g):\n",
    "    global numbers\n",
    "    global current_label\n",
    "    global explored\n",
    "    numbers = {}\n",
    "    explored = {}\n",
    "    current_label = len(g.adj)\n",
    "    \n",
    "    for n in g.adj:\n",
    "        explored[n] = False\n",
    "    \n",
    "    for n in g.adj:\n",
    "        if not explored[n]:\n",
    "            DFS(g,n)\n",
    "            \n",
    "    numbers = {k:v for k,v in sorted(numbers.items(), key=lambda x: x[1])}\n",
    "    return numbers"
   ]
  },
  {
   "cell_type": "code",
   "execution_count": 28,
   "id": "d37f9e6c-111c-476f-a039-978dc0dd3921",
   "metadata": {},
   "outputs": [],
   "source": [
    "f = open('SCC_test1.txt','r')\n",
    "lines = f.readlines()\n",
    "lines = [l.strip('\\n').strip() for l in lines if l!='\\n']\n",
    "nodes = {}\n",
    "for l in lines:\n",
    "    line = l.split()\n",
    "    if int(line[0]) not in nodes:\n",
    "        nodes[int(line[0])] = []\n",
    "    for n in line[1:]:\n",
    "        nodes[int(line[0])].append(int(n))"
   ]
  },
  {
   "cell_type": "code",
   "execution_count": 29,
   "id": "ca337a99-9555-44d4-815b-ed1ec60b63a9",
   "metadata": {},
   "outputs": [],
   "source": [
    "g = Graph(nodes)"
   ]
  },
  {
   "cell_type": "code",
   "execution_count": 30,
   "id": "13978c84-fc1c-49d6-9df4-a9fefb8e6352",
   "metadata": {},
   "outputs": [
    {
     "data": {
      "text/plain": [
       "{2: 1, 8: 2, 6: 3, 9: 4, 3: 5, 5: 6, 1: 7, 4: 8, 7: 9}"
      ]
     },
     "execution_count": 30,
     "metadata": {},
     "output_type": "execute_result"
    }
   ],
   "source": [
    "topoSort(g)"
   ]
  },
  {
   "cell_type": "code",
   "execution_count": null,
   "id": "a06d5fd6-6ef2-40f9-9647-2910d6626da5",
   "metadata": {},
   "outputs": [],
   "source": []
  }
 ],
 "metadata": {
  "kernelspec": {
   "display_name": "Python 3 (ipykernel)",
   "language": "python",
   "name": "python3"
  },
  "language_info": {
   "codemirror_mode": {
    "name": "ipython",
    "version": 3
   },
   "file_extension": ".py",
   "mimetype": "text/x-python",
   "name": "python",
   "nbconvert_exporter": "python",
   "pygments_lexer": "ipython3",
   "version": "3.9.4"
  }
 },
 "nbformat": 4,
 "nbformat_minor": 5
}
