{
 "cells": [
  {
   "cell_type": "code",
   "execution_count": 114,
   "id": "a97f49cc-f8c0-44c6-a8c6-2b03ff5de8eb",
   "metadata": {},
   "outputs": [],
   "source": [
    "class Graph:\n",
    "    def __init__(self):\n",
    "        self.nodes = {}\n",
    "    def remove(self,n):\n",
    "        self.nodes.pop(n)\n",
    "        for u in self.nodes:\n",
    "            if n in self.nodes[u]:\n",
    "                self.nodes[u].remove(n)\n",
    "        \n",
    "\n",
    "g = Graph()\n",
    "nodes = {'s':['v','w'],\n",
    "         'v':['t'],\n",
    "         'w':['t'],\n",
    "         't':[]}\n",
    "'''\n",
    "nodes = {'s':['a','b'],\n",
    "         'a':['s','c'],\n",
    "         'b':['s','c','d'],\n",
    "         'c':['a','b','d'],\n",
    "         'd':['b','c','e'],\n",
    "         'e':['c','d']}\n",
    "'''\n",
    "'''\n",
    "nodes = {'1':['3','5'],\n",
    "         '2':['4'],\n",
    "         '3':['1','5'],\n",
    "         '4':['2'],\n",
    "         '5':['1','3','7','4'],\n",
    "         '6':['8','10'],\n",
    "         '7':['5'],\n",
    "         '8':['6','10'],\n",
    "         '9':['5'],\n",
    "         '10':['6','8']}\n",
    "'''\n",
    "\n",
    "g.nodes = nodes\n",
    "\n",
    "global explored\n",
    "global paths\n",
    "global numbers\n",
    "explored = {}\n",
    "paths={}\n",
    "\n",
    "for n in g.nodes:\n",
    "    explored[n] = False\n",
    "        \n",
    "def BFS(g,ith_node):\n",
    "\n",
    "    queue = [ith_node]\n",
    "    explored[ith_node] = True\n",
    "    \n",
    "    while len(queue)>0:\n",
    "        node = queue.pop(0)\n",
    "        for w in g.nodes[node]:\n",
    "            if not explored[w]:\n",
    "                explored[w]=True\n",
    "                queue.append(w)\n",
    "\n",
    "def shortestPaths(g,ith_node):\n",
    "    \n",
    "    queue = [ith_node]\n",
    "    explored[ith_node] = True\n",
    "    paths[ith_node] = 0\n",
    "    \n",
    "    while len(queue)>0:\n",
    "        node = queue.pop(0)\n",
    "        for w in g.nodes[node]:\n",
    "            if not explored[w]:\n",
    "                explored[w]=True\n",
    "                queue.append(w)\n",
    "                \n",
    "                #shortest paths\n",
    "                paths[w] = 1+paths[node]\n",
    "\n",
    "def connectedComponents(g):\n",
    "    for n in g.nodes:\n",
    "        explored[n] = False\n",
    "    \n",
    "    count=0\n",
    "    for n in g.nodes:\n",
    "        if not explored[n]:\n",
    "            BFS(g,n)\n",
    "            count+=1\n",
    "    return count        \n",
    "\n",
    "'''\n",
    "def DFS(g,ith_node):\n",
    "    stack = [ith_node]\n",
    "    explored[ith_node] = True\n",
    "    \n",
    "    while len(stack)>0:\n",
    "        node = stack.pop(-1)\n",
    "        for w in g.nodes[node]:\n",
    "            print(w)\n",
    "            if not explored[w]:\n",
    "                explored[w]=True\n",
    "                stack.append(w)\n",
    "'''\n",
    "                \n",
    "def ordering(g,ith_node):\n",
    "    for n in g.nodes:\n",
    "        explored[n] = False\n",
    "    \n",
    "    stack = [ith_node]\n",
    "    explored[ith_node] = True\n",
    "    \n",
    "    numbers = [(ith_node,0)]\n",
    "    \n",
    "    while len(stack)>0:\n",
    "        node = stack.pop(-1)\n",
    "        for w in g.nodes[node]:\n",
    "            if not explored[w]:\n",
    "                explored[w]=True\n",
    "                stack.append(w)\n",
    "                \n",
    "                entry = (w,numbers[-1][1]+1)\n",
    "                numbers.append(entry)\n",
    "    \n",
    "    return numbers\n",
    "\n",
    "\n",
    "\n",
    "\n",
    "def DFS(g,ith_node):\n",
    "    \n",
    "    global current_label\n",
    "    global numbers\n",
    "    \n",
    "    explored[ith_node] = True\n",
    "    for v in g.nodes[ith_node]:\n",
    "        if not explored[v]:\n",
    "            DFS(g,v)\n",
    "            \n",
    "    numbers[ith_node] = current_label\n",
    "    current_label-=1          \n",
    "              \n",
    "\n",
    "def topoSort(g):\n",
    "    \n",
    "    numbers = {}\n",
    "    current_label = len(g.nodes)\n",
    "    \n",
    "    for n in g.nodes:\n",
    "        explored[n] = False\n",
    "    \n",
    "    for n in g.nodes:\n",
    "        if not explored[n]:\n",
    "            DFS(g,n)\n",
    "    \n",
    "    return numbers    "
   ]
  },
  {
   "cell_type": "code",
   "execution_count": 109,
   "id": "2b82cf0b-0dbe-4ff8-95b4-405a9fa500c0",
   "metadata": {},
   "outputs": [
    {
     "data": {
      "text/plain": [
       "[('s', 0), ('v', 1), ('w', 2), ('t', 3)]"
      ]
     },
     "execution_count": 109,
     "metadata": {},
     "output_type": "execute_result"
    }
   ],
   "source": [
    "ordering(g,'s')"
   ]
  },
  {
   "cell_type": "code",
   "execution_count": 115,
   "id": "5b878f61-2083-41a3-8a03-e2b21f5c8813",
   "metadata": {},
   "outputs": [
    {
     "data": {
      "text/plain": [
       "{}"
      ]
     },
     "execution_count": 115,
     "metadata": {},
     "output_type": "execute_result"
    }
   ],
   "source": [
    "for n in g.nodes:\n",
    "    explored[n]=False\n",
    "topoSort(g)"
   ]
  },
  {
   "cell_type": "code",
   "execution_count": 113,
   "id": "65a368c5-09a0-49ef-9b55-a2cf9c229a4c",
   "metadata": {},
   "outputs": [],
   "source": [
    "for n in g.nodes:\n",
    "    explored[n]=False\n",
    "\n",
    "DFS(g,'s')"
   ]
  },
  {
   "cell_type": "code",
   "execution_count": 61,
   "id": "5e246337-a0f0-408a-9ef3-eafb7f83456d",
   "metadata": {},
   "outputs": [
    {
     "data": {
      "text/plain": [
       "{'s': ['a', 'b'],\n",
       " 'a': ['s', 'c'],\n",
       " 'b': ['s', 'c', 'd'],\n",
       " 'c': ['a', 'b', 'd'],\n",
       " 'd': ['b', 'c', 'e'],\n",
       " 'e': ['c', 'd']}"
      ]
     },
     "execution_count": 61,
     "metadata": {},
     "output_type": "execute_result"
    }
   ],
   "source": [
    "g.nodes"
   ]
  },
  {
   "cell_type": "code",
   "execution_count": 62,
   "id": "7b0c9760-14cb-4090-b165-f5354b3d589c",
   "metadata": {},
   "outputs": [
    {
     "data": {
      "text/plain": [
       "6"
      ]
     },
     "execution_count": 62,
     "metadata": {},
     "output_type": "execute_result"
    }
   ],
   "source": [
    "len(g.nodes)"
   ]
  },
  {
   "cell_type": "code",
   "execution_count": null,
   "id": "a5f647b9-f44c-48e9-803e-fd5da0060674",
   "metadata": {},
   "outputs": [],
   "source": []
  }
 ],
 "metadata": {
  "kernelspec": {
   "display_name": "Python 3 (ipykernel)",
   "language": "python",
   "name": "python3"
  },
  "language_info": {
   "codemirror_mode": {
    "name": "ipython",
    "version": 3
   },
   "file_extension": ".py",
   "mimetype": "text/x-python",
   "name": "python",
   "nbconvert_exporter": "python",
   "pygments_lexer": "ipython3",
   "version": "3.9.4"
  }
 },
 "nbformat": 4,
 "nbformat_minor": 5
}
