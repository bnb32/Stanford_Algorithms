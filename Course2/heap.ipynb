{
 "cells": [
  {
   "cell_type": "code",
   "execution_count": 1,
   "id": "f99d9bd1-0d91-4159-9196-53b01bb52df8",
   "metadata": {},
   "outputs": [],
   "source": [
    "import numpy as np"
   ]
  },
  {
   "cell_type": "code",
   "execution_count": 259,
   "id": "d8f081fd-8690-4b54-a7bb-f3f29a113739",
   "metadata": {},
   "outputs": [],
   "source": [
    "class heap:\n",
    "    def __init__(self):\n",
    "        self.Q = []\n",
    "        self.item_index = {}\n",
    "    \n",
    "    def parent(self,i):\n",
    "        if i==0: return 0\n",
    "        return int(np.floor((i-1)/2))\n",
    "    \n",
    "    def children(self,i):\n",
    "        return 2*i+1, 2*(i+1)\n",
    "    \n",
    "    def swap(self,i,j):\n",
    "        k_i = self.Q[i]\n",
    "        k_j = self.Q[j]\n",
    "        self.Q[i] = k_j\n",
    "        self.Q[j] = k_i\n",
    "        self.item_index[k_j[1]] = i\n",
    "        self.item_index[k_i[1]] = j\n",
    "    \n",
    "    def insert(self,item,key):\n",
    "        self.Q.append([key,item])\n",
    "        self.item_index[item] = len(self.Q)-1\n",
    "        self.bubble_up(len(self.Q)-1)\n",
    "        \n",
    "    def pop(self):\n",
    "        val = self.Q[0]\n",
    "        self.item_index.pop(val[1])\n",
    "        self.Q[0] = self.Q.pop()\n",
    "        self.item_index[self.Q[0][1]] = 0\n",
    "        self.bubble_down(0)\n",
    "        return val    \n",
    "    \n",
    "    def bubble_up(self,i):\n",
    "        c_idx = i\n",
    "        p_idx = self.parent(c_idx)\n",
    "        \n",
    "        while self.Q[p_idx][0] > self.Q[c_idx][0]:\n",
    "            self.swap(p_idx,c_idx)\n",
    "            c_idx = p_idx\n",
    "            p_idx = self.parent(c_idx)    \n",
    "   \n",
    "    def bubble_down(self,i):\n",
    "        \n",
    "        p_idx = i\n",
    "        c1, c2 = self.children(p_idx)\n",
    "        \n",
    "        while ((c1 < len(self.Q) and self.Q[p_idx][0] > self.Q[c1][0]) or \n",
    "               (c2 < len(self.Q) and self.Q[p_idx][0] > self.Q[c2][0])):\n",
    "            if c1 < len(self.Q) and c2 < len(self.Q):\n",
    "                if self.Q[c1][0] < self.Q[p_idx][0] and self.Q[c2][0] >= self.Q[p_idx][0]:\n",
    "                    self.swap(p_idx,c1)\n",
    "                    p_idx = c1\n",
    "                elif (self.Q[c2][0] < self.Q[p_idx][0]) and (self.Q[c1][0] >= self.Q[p_idx][0]):\n",
    "                    self.swap(p_idx,c2)\n",
    "                    p_idx = c2\n",
    "                else:\n",
    "                    if self.Q[c2][0] < self.Q[c1][0]:\n",
    "                        self.swap(p_idx,c2)\n",
    "                        p_idx = c2\n",
    "                    else:\n",
    "                        self.swap(p_idx,c1)\n",
    "                        p_idx = c1\n",
    "            elif c1 < len(self.Q):\n",
    "                self.swap(p_idx,c1)\n",
    "                p_idx = c1\n",
    "            else:\n",
    "                self.swap(p_idx,c2)\n",
    "                p_idx = c2\n",
    "            c1, c2 = self.children(p_idx)\n",
    "        \n",
    "    def update(self,item,key):\n",
    "        \n",
    "        idx = self.item_index[item]\n",
    "        c1, c2 = self.children(idx)\n",
    "        p_idx = self.parent(idx)\n",
    "        \n",
    "        self.Q[idx] = [key,item]\n",
    "        \n",
    "        if (idx == 0):\n",
    "            if (key > self.Q[c1][0] or key > self.Q[c2][0]):\n",
    "                self.bubble_down(idx)\n",
    "        \n",
    "        elif (idx == len(self.Q)-1):\n",
    "            if (key < self.Q[p_idx][0]):\n",
    "                self.bubble_up(idx)\n",
    "        else:\n",
    "            if ((c1 < len(self.Q) and key > self.Q[c1][0]) or \n",
    "               (c2 < len(self.Q) and key > self.Q[c2][0])):\n",
    "                self.bubble_down(idx)\n",
    "            elif (key < self.Q[p_idx][0]):\n",
    "                self.bubble_up(idx)\n",
    "        \n",
    "        \n",
    "            \n",
    "        "
   ]
  },
  {
   "cell_type": "code",
   "execution_count": 260,
   "id": "30215608-f8c7-4cfe-9866-c18bce016e74",
   "metadata": {},
   "outputs": [],
   "source": [
    "h = heap()"
   ]
  },
  {
   "cell_type": "code",
   "execution_count": 261,
   "id": "fca4a070-374e-4aa9-a1b1-0ccf8d64def4",
   "metadata": {},
   "outputs": [],
   "source": [
    "h.insert('s',1)"
   ]
  },
  {
   "cell_type": "code",
   "execution_count": 262,
   "id": "ecb981e7-2919-4d42-8155-a1e033f97777",
   "metadata": {},
   "outputs": [
    {
     "data": {
      "text/plain": [
       "[[1, 's']]"
      ]
     },
     "execution_count": 262,
     "metadata": {},
     "output_type": "execute_result"
    }
   ],
   "source": [
    "h.Q"
   ]
  },
  {
   "cell_type": "code",
   "execution_count": 263,
   "id": "400ee8cc-bbda-40f0-ad6b-78d438ff7c1c",
   "metadata": {},
   "outputs": [
    {
     "data": {
      "text/plain": [
       "{'s': 0}"
      ]
     },
     "execution_count": 263,
     "metadata": {},
     "output_type": "execute_result"
    }
   ],
   "source": [
    "h.item_index"
   ]
  },
  {
   "cell_type": "code",
   "execution_count": 264,
   "id": "50f13591-e5b9-4951-bb71-a37bab9c8b7c",
   "metadata": {},
   "outputs": [],
   "source": [
    "h.insert('v',2)"
   ]
  },
  {
   "cell_type": "code",
   "execution_count": 265,
   "id": "9f7dc0d1-e710-4236-8074-5c3718797c4a",
   "metadata": {},
   "outputs": [
    {
     "data": {
      "text/plain": [
       "[[1, 's'], [2, 'v']]"
      ]
     },
     "execution_count": 265,
     "metadata": {},
     "output_type": "execute_result"
    }
   ],
   "source": [
    "h.Q"
   ]
  },
  {
   "cell_type": "code",
   "execution_count": 266,
   "id": "8509bc9b-e2e3-4503-89ff-872746004535",
   "metadata": {},
   "outputs": [
    {
     "data": {
      "text/plain": [
       "{'s': 0, 'v': 1}"
      ]
     },
     "execution_count": 266,
     "metadata": {},
     "output_type": "execute_result"
    }
   ],
   "source": [
    "h.item_index"
   ]
  },
  {
   "cell_type": "code",
   "execution_count": 267,
   "id": "10aec177-dfb1-4c8b-9a57-0e6e9681ced1",
   "metadata": {},
   "outputs": [],
   "source": [
    "h.insert('w',3)"
   ]
  },
  {
   "cell_type": "code",
   "execution_count": 268,
   "id": "fd9d79c3-456e-42d4-bf0b-9837dae57b24",
   "metadata": {},
   "outputs": [
    {
     "data": {
      "text/plain": [
       "[[1, 's'], [2, 'v'], [3, 'w']]"
      ]
     },
     "execution_count": 268,
     "metadata": {},
     "output_type": "execute_result"
    }
   ],
   "source": [
    "h.Q"
   ]
  },
  {
   "cell_type": "code",
   "execution_count": 269,
   "id": "d3d7d8bd-cc51-49a6-9190-66c68ad974e9",
   "metadata": {},
   "outputs": [
    {
     "data": {
      "text/plain": [
       "{'s': 0, 'v': 1, 'w': 2}"
      ]
     },
     "execution_count": 269,
     "metadata": {},
     "output_type": "execute_result"
    }
   ],
   "source": [
    "h.item_index"
   ]
  },
  {
   "cell_type": "code",
   "execution_count": 270,
   "id": "ee435947-29b1-4460-838a-4d2eb4edf3cc",
   "metadata": {},
   "outputs": [],
   "source": [
    "h.insert('t',1)"
   ]
  },
  {
   "cell_type": "code",
   "execution_count": 271,
   "id": "bc2ac174-6d1f-480b-bd74-92cc4cfd5979",
   "metadata": {},
   "outputs": [
    {
     "data": {
      "text/plain": [
       "[[1, 's'], [1, 't'], [3, 'w'], [2, 'v']]"
      ]
     },
     "execution_count": 271,
     "metadata": {},
     "output_type": "execute_result"
    }
   ],
   "source": [
    "h.Q"
   ]
  },
  {
   "cell_type": "code",
   "execution_count": 272,
   "id": "c0e54ed4-4059-4bd7-9635-2e9a27c49c4b",
   "metadata": {},
   "outputs": [
    {
     "data": {
      "text/plain": [
       "{'s': 0, 'v': 3, 'w': 2, 't': 1}"
      ]
     },
     "execution_count": 272,
     "metadata": {},
     "output_type": "execute_result"
    }
   ],
   "source": [
    "h.item_index"
   ]
  },
  {
   "cell_type": "code",
   "execution_count": 273,
   "id": "303adbd2-df95-4471-9ab8-46c6c1e3bcf7",
   "metadata": {},
   "outputs": [
    {
     "data": {
      "text/plain": [
       "[1, 's']"
      ]
     },
     "execution_count": 273,
     "metadata": {},
     "output_type": "execute_result"
    }
   ],
   "source": [
    "h.pop()"
   ]
  },
  {
   "cell_type": "code",
   "execution_count": null,
   "id": "9a0c247b-9efe-4ec1-a666-ed4d7d7a800f",
   "metadata": {},
   "outputs": [],
   "source": []
  },
  {
   "cell_type": "code",
   "execution_count": 274,
   "id": "b696a7df-f378-465a-8ea9-5055e729c523",
   "metadata": {},
   "outputs": [
    {
     "data": {
      "text/plain": [
       "[[1, 't'], [2, 'v'], [3, 'w']]"
      ]
     },
     "execution_count": 274,
     "metadata": {},
     "output_type": "execute_result"
    }
   ],
   "source": [
    "h.Q"
   ]
  },
  {
   "cell_type": "code",
   "execution_count": 275,
   "id": "2b31f377-2ab3-4686-b9f2-c759af774640",
   "metadata": {},
   "outputs": [
    {
     "data": {
      "text/plain": [
       "{'v': 1, 'w': 2, 't': 0}"
      ]
     },
     "execution_count": 275,
     "metadata": {},
     "output_type": "execute_result"
    }
   ],
   "source": [
    "h.item_index"
   ]
  },
  {
   "cell_type": "code",
   "execution_count": 276,
   "id": "7642234e-9d45-457a-b631-abfeff4c6202",
   "metadata": {},
   "outputs": [],
   "source": [
    "h.update('t',3)"
   ]
  },
  {
   "cell_type": "code",
   "execution_count": 277,
   "id": "1ab76f57-bd3f-417e-a247-776df26c9710",
   "metadata": {},
   "outputs": [
    {
     "data": {
      "text/plain": [
       "[[2, 'v'], [3, 't'], [3, 'w']]"
      ]
     },
     "execution_count": 277,
     "metadata": {},
     "output_type": "execute_result"
    }
   ],
   "source": [
    "h.Q"
   ]
  },
  {
   "cell_type": "code",
   "execution_count": 278,
   "id": "0306603e-ad33-44e0-ac2a-76085f247e70",
   "metadata": {},
   "outputs": [
    {
     "data": {
      "text/plain": [
       "{'v': 0, 'w': 2, 't': 1}"
      ]
     },
     "execution_count": 278,
     "metadata": {},
     "output_type": "execute_result"
    }
   ],
   "source": [
    "h.item_index"
   ]
  },
  {
   "cell_type": "code",
   "execution_count": null,
   "id": "a08ad928-67c2-4746-ae62-1a5e4af3d131",
   "metadata": {},
   "outputs": [],
   "source": []
  }
 ],
 "metadata": {
  "kernelspec": {
   "display_name": "Python 3 (ipykernel)",
   "language": "python",
   "name": "python3"
  },
  "language_info": {
   "codemirror_mode": {
    "name": "ipython",
    "version": 3
   },
   "file_extension": ".py",
   "mimetype": "text/x-python",
   "name": "python",
   "nbconvert_exporter": "python",
   "pygments_lexer": "ipython3",
   "version": "3.9.4"
  }
 },
 "nbformat": 4,
 "nbformat_minor": 5
}
