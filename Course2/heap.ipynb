{
 "cells": [
  {
   "cell_type": "code",
   "execution_count": 7,
   "id": "f99d9bd1-0d91-4159-9196-53b01bb52df8",
   "metadata": {},
   "outputs": [],
   "source": [
    "import numpy as np"
   ]
  },
  {
   "cell_type": "code",
   "execution_count": 74,
   "id": "d8f081fd-8690-4b54-a7bb-f3f29a113739",
   "metadata": {},
   "outputs": [],
   "source": [
    "class Graph:\n",
    "    def __init__(self,adj={}):\n",
    "        self.adj = adj\n",
    "        self.nodes = []\n",
    "        self.nodes = list(adj)\n",
    "        for n in self.adj:\n",
    "            self.nodes += list(self.adj[n])\n",
    "        self.nodes = list(set(self.nodes))\n",
    "\n",
    "        for n in self.nodes:\n",
    "            if n not in self.adj:\n",
    "                self.adj[n] = {}\n",
    "\n",
    "class entry:\n",
    "    def __init__(self,item='',key=''):\n",
    "        self.key = key\n",
    "        self.item = item\n",
    "                \n",
    "                \n",
    "class heap:\n",
    "    def __init__(self,max=False):\n",
    "        self.Q = []\n",
    "        self.item_index = {}\n",
    "        self.max = max\n",
    "    \n",
    "    def parent(self,i):\n",
    "        if i==0: return 0\n",
    "        return int(np.floor((i-1)/2))\n",
    "    \n",
    "    def children(self,i):\n",
    "        return 2*i+1, 2*(i+1)\n",
    "    \n",
    "    def swap(self,i,j):\n",
    "        e_i = self.Q[i]\n",
    "        e_j = self.Q[j]\n",
    "        self.Q[i] = e_j\n",
    "        self.Q[j] = e_i\n",
    "        self.item_index[e_j.item] = i\n",
    "        self.item_index[e_i.item] = j\n",
    "    \n",
    "    def push(self,item,key):\n",
    "        if self.max:\n",
    "            key = -key\n",
    "\n",
    "        self.Q.append(entry(item=item,key=key))\n",
    "        self.item_index[item] = len(self.Q)-1\n",
    "        self.bubble_up(len(self.Q)-1)\n",
    "        \n",
    "    def pop(self):\n",
    "        \n",
    "        if len(self.Q)==1:\n",
    "            e = self.Q.pop()\n",
    "            self.item_index.pop(e.item)\n",
    "        else:\n",
    "            e = self.Q[0]\n",
    "            self.item_index.pop(e.item)\n",
    "            self.Q[0] = self.Q.pop()\n",
    "            self.item_index[self.Q[0].item] = 0\n",
    "            self.bubble_down(0)\n",
    "        if self.max:\n",
    "            e.key = -e.key\n",
    "        return e    \n",
    "    \n",
    "    def bubble_up(self,i):\n",
    "        c_idx = i\n",
    "        p_idx = self.parent(c_idx)\n",
    "        \n",
    "        while self.Q[p_idx].key > self.Q[c_idx].key:\n",
    "            self.swap(p_idx,c_idx)\n",
    "            c_idx = p_idx\n",
    "            p_idx = self.parent(c_idx)    \n",
    "   \n",
    "    def bubble_down(self,i):\n",
    "        \n",
    "        p_idx = i\n",
    "        c1, c2 = self.children(p_idx)\n",
    "        \n",
    "        while ((c1 < len(self.Q) and self.Q[p_idx].key > self.Q[c1].key) or \n",
    "               (c2 < len(self.Q) and self.Q[p_idx].key > self.Q[c2].key)):\n",
    "            if c1 < len(self.Q) and c2 < len(self.Q):\n",
    "                if self.Q[c1].key < self.Q[p_idx].key and self.Q[c2].key >= self.Q[p_idx].key:\n",
    "                    self.swap(p_idx,c1)\n",
    "                    p_idx = c1\n",
    "                elif (self.Q[c2].key < self.Q[p_idx].key) and (self.Q[c1].key >= self.Q[p_idx].key):\n",
    "                    self.swap(p_idx,c2)\n",
    "                    p_idx = c2\n",
    "                else:\n",
    "                    if self.Q[c2].key < self.Q[c1].key:\n",
    "                        self.swap(p_idx,c2)\n",
    "                        p_idx = c2\n",
    "                    else:\n",
    "                        self.swap(p_idx,c1)\n",
    "                        p_idx = c1\n",
    "            elif c1 < len(self.Q):\n",
    "                self.swap(p_idx,c1)\n",
    "                p_idx = c1\n",
    "            else:\n",
    "                self.swap(p_idx,c2)\n",
    "                p_idx = c2\n",
    "            c1, c2 = self.children(p_idx)\n",
    "            \n",
    "    def maximum(self):\n",
    "        if self.is_empty():\n",
    "            return np.inf\n",
    "        else:\n",
    "            return -self.Q[0].key\n",
    "    \n",
    "    def minimum(self):\n",
    "        if self.is_empty():\n",
    "            return -np.inf\n",
    "        else:\n",
    "            return self.Q[0].key\n",
    "        \n",
    "    def update(self,item,key):\n",
    "        \n",
    "        if self.max:\n",
    "            key = -key\n",
    "        \n",
    "        idx = self.item_index[item]\n",
    "        c1, c2 = self.children(idx)\n",
    "        p_idx = self.parent(idx) \n",
    "        \n",
    "        if (idx == 0):\n",
    "            if (key > self.Q[c1].key or key > self.Q[c2].key):\n",
    "                self.bubble_down(idx)\n",
    "        \n",
    "        elif (idx == len(self.Q)-1):\n",
    "            if (key < self.Q[p_idx].key):\n",
    "                self.bubble_up(idx)\n",
    "        else:\n",
    "            if ((c1 < len(self.Q) and key > self.Q[c1].key) or \n",
    "               (c2 < len(self.Q) and key > self.Q[c2].key)):\n",
    "                self.bubble_down(idx)\n",
    "            elif (key < self.Q[p_idx].key):\n",
    "                self.bubble_up(idx)\n",
    "\n",
    "    def is_empty(self):\n",
    "        if self.Q:\n",
    "            return False\n",
    "        return True\n",
    "              "
   ]
  },
  {
   "cell_type": "code",
   "execution_count": 48,
   "id": "6efe6e2a-6925-415e-a44c-9a6108b18480",
   "metadata": {},
   "outputs": [],
   "source": [
    "def dijkstra(g,ith_node):\n",
    "    dist = {}\n",
    "    dist[ith_node] = 0\n",
    "    h = heap()\n",
    "    \n",
    "    for v in g.nodes:\n",
    "        if v != ith_node:\n",
    "            dist[v] = np.inf\n",
    "        h.push(v,dist[v])\n",
    "\n",
    "    while not h.is_empty():\n",
    "        u = h.pop().item\n",
    "        for v in g.adj[u]:\n",
    "            if v in h.item_index:\n",
    "                alt = dist[u] + g.adj[u][v]\n",
    "                if alt < dist[v]:\n",
    "                    h.update(v,alt)\n",
    "                    dist[v] = alt                \n",
    "                    \n",
    "    return dist"
   ]
  },
  {
   "cell_type": "markdown",
   "id": "54b2b0a5-6a81-452a-9dad-ba63a0a786dc",
   "metadata": {},
   "source": [
    "**Dijkstra algorithm**"
   ]
  },
  {
   "cell_type": "code",
   "execution_count": 25,
   "id": "ec44afa6-9fcd-4261-a714-78e4e9b398f2",
   "metadata": {},
   "outputs": [],
   "source": [
    "f = open('dijkstraData.txt','r')\n",
    "lines = f.readlines()"
   ]
  },
  {
   "cell_type": "code",
   "execution_count": 358,
   "id": "056b1c0c-65f2-4a77-b17d-f591c9495741",
   "metadata": {},
   "outputs": [],
   "source": [
    "nodes = {}\n",
    "for line in lines:\n",
    "    tmp = line.strip('\\t\\n').split('\\t')\n",
    "    nodes[int(tmp[0])] = {}\n",
    "    for pair in tmp[1:]:\n",
    "        [v,l] = pair.split(',')\n",
    "        nodes[int(tmp[0])][int(v)] = int(l)"
   ]
  },
  {
   "cell_type": "code",
   "execution_count": 359,
   "id": "2abf6ffa-8c7f-4841-bd47-20c3d5068937",
   "metadata": {},
   "outputs": [],
   "source": [
    "g = Graph(nodes)"
   ]
  },
  {
   "cell_type": "code",
   "execution_count": 360,
   "id": "22924349-97b5-4334-81c4-60061b47e829",
   "metadata": {},
   "outputs": [],
   "source": [
    "distances = dijkstra(g,1)"
   ]
  },
  {
   "cell_type": "code",
   "execution_count": 361,
   "id": "12818d4e-0ffd-42e9-8cbd-2c87a87f5f8f",
   "metadata": {},
   "outputs": [
    {
     "name": "stdout",
     "output_type": "stream",
     "text": [
      "[2599, 2610, 2947, 2052, 2367, 2399, 2029, 2442, 2505, 3068]\n"
     ]
    }
   ],
   "source": [
    "arr = [7,37,59,82,99,115,133,165,188,197]\n",
    "entry = []\n",
    "for a in arr:\n",
    "    entry.append(distances[a])  \n",
    "print(entry)"
   ]
  },
  {
   "cell_type": "markdown",
   "id": "c80c90a2-ce7a-4fd9-935e-9885fca86b9b",
   "metadata": {},
   "source": [
    "**Median Maintenance**"
   ]
  },
  {
   "cell_type": "code",
   "execution_count": 75,
   "id": "8a0de79c-0975-4a46-84a0-a013cbaa29b2",
   "metadata": {},
   "outputs": [],
   "source": [
    "f = open('Median.txt','r')\n",
    "lines = f.readlines()\n",
    "lines = [int(l.strip('\\n')) for l in lines]"
   ]
  },
  {
   "cell_type": "code",
   "execution_count": 76,
   "id": "b7d29d67-0488-4033-b803-689b671275a7",
   "metadata": {},
   "outputs": [],
   "source": [
    "hlow = heap(max=True)\n",
    "hhigh = heap(max=False)\n",
    "\n",
    "medians = []\n",
    "\n",
    "for a in lines:\n",
    "    if a < hlow.maximum():\n",
    "        hlow.push(a,a)\n",
    "    else:\n",
    "        hhigh.push(a,a)\n",
    "    if len(hlow.Q)==(2+len(hhigh.Q)):\n",
    "        e = hlow.pop()\n",
    "        hhigh.push(e.item,e.key)\n",
    "    if len(hhigh.Q)==(2+len(hlow.Q)):\n",
    "        e = hhigh.pop()\n",
    "        hlow.push(e.item,e.key)\n",
    "    \n",
    "    if len(hhigh.Q)>len(hlow.Q):\n",
    "        m = hhigh.minimum()\n",
    "    elif len(hlow.Q)>len(hhigh.Q):\n",
    "        m = hlow.maximum()\n",
    "    else:\n",
    "        m = hlow.maximum()\n",
    "    medians.append(m)    "
   ]
  },
  {
   "cell_type": "code",
   "execution_count": 77,
   "id": "f2417b79-9d39-46aa-a5b8-9615c0bec8f6",
   "metadata": {},
   "outputs": [
    {
     "name": "stdout",
     "output_type": "stream",
     "text": [
      "1213\n"
     ]
    }
   ],
   "source": [
    "print(sum(medians) % 10000)"
   ]
  },
  {
   "cell_type": "code",
   "execution_count": null,
   "id": "c717128d-ea8b-4992-8d23-5882b877561a",
   "metadata": {},
   "outputs": [],
   "source": []
  }
 ],
 "metadata": {
  "kernelspec": {
   "display_name": "Python 3 (ipykernel)",
   "language": "python",
   "name": "python3"
  },
  "language_info": {
   "codemirror_mode": {
    "name": "ipython",
    "version": 3
   },
   "file_extension": ".py",
   "mimetype": "text/x-python",
   "name": "python",
   "nbconvert_exporter": "python",
   "pygments_lexer": "ipython3",
   "version": "3.9.4"
  }
 },
 "nbformat": 4,
 "nbformat_minor": 5
}
