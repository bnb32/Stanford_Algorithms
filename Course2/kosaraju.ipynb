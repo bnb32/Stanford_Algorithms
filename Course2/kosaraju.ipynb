{
 "cells": [
  {
   "cell_type": "code",
   "execution_count": 1,
   "id": "76466c6b-c218-49ad-9e4a-1c7fdb78dba0",
   "metadata": {},
   "outputs": [],
   "source": [
    "#!pip install networkx\n",
    "\n",
    "import networkx as nx\n",
    "import matplotlib.pyplot as plt\n",
    "import sys\n",
    "import threading"
   ]
  },
  {
   "cell_type": "code",
   "execution_count": 2,
   "id": "c879dce0-9260-4d8e-9c5e-9d4c38c39e4e",
   "metadata": {},
   "outputs": [],
   "source": [
    "class Graph:\n",
    "    def __init__(self,adj={}):\n",
    "        self.adj = adj\n",
    "        self.nodes = []\n",
    "        self.nodes = list(adj)\n",
    "        for n in self.adj:\n",
    "            self.nodes += self.adj[n]\n",
    "        self.nodes = list(set(self.nodes))\n",
    "\n",
    "        for n in self.nodes:\n",
    "            if n not in self.adj:\n",
    "                self.adj[n] = []\n",
    "        self.rev_adj = {}\n",
    "    def rename(self,new_names):\n",
    "        tmp = {}\n",
    "        for n in self.adj:\n",
    "            tmp[new_names[n]] = self.adj[n]\n",
    "        self.adj = tmp\n",
    "        for n in self.adj:\n",
    "            for i,u in enumerate(self.adj[n]):\n",
    "                self.adj[n][i] = new_names[u]\n",
    "        self.nodes = [new_names[n] for n in self.nodes]        \n",
    "    def reverse(self):\n",
    "        new_adj = {}\n",
    "        for n in self.adj:\n",
    "            if n not in new_adj:\n",
    "                new_adj[n] = []\n",
    "            for u in self.adj[n]:\n",
    "                if u not in new_adj: \n",
    "                    new_adj[u] = []\n",
    "                new_adj[u].append(n)\n",
    "        self.rev_adj = new_adj        \n",
    "        return Graph(new_adj)   "
   ]
  },
  {
   "cell_type": "code",
   "execution_count": 15,
   "id": "acae43ac-64a5-49be-91a2-60d0b09e440f",
   "metadata": {},
   "outputs": [],
   "source": [
    "current_label = 0\n",
    "numbers = {}\n",
    "def DFS(g,ith_node):\n",
    "    \n",
    "    global current_label\n",
    "    global numbers\n",
    "    global explored\n",
    "    global s,t\n",
    "    global leader\n",
    "    global times\n",
    "    \n",
    "    leader[ith_node] = s\n",
    "    explored[ith_node] = True\n",
    "    \n",
    "    for v in g.adj[ith_node]:\n",
    "        if not explored[v]:\n",
    "            DFS(g,v)\n",
    "            \n",
    "    numbers[ith_node] = current_label\n",
    "    current_label-=1          \n",
    "    t+=1\n",
    "    times[ith_node] = t\n",
    "\n",
    "def SCCs(g):\n",
    "    \n",
    "    global t\n",
    "    global s\n",
    "    global explored\n",
    "    global times\n",
    "    global leader\n",
    "    t = 0\n",
    "    s = ''\n",
    "    times = {}\n",
    "    leader = {}\n",
    "    explored = {}\n",
    "    \n",
    "    g_rev = g.reverse()\n",
    "    \n",
    "    for n in g_rev.nodes:\n",
    "        explored[n] = False\n",
    "    \n",
    "    for i in sorted(g_rev.nodes,reverse=True):#range(len(g_rev.adj),0,-1):\n",
    "        if not explored[i]:\n",
    "            s = i\n",
    "            DFS(g_rev,i)\n",
    "    \n",
    "    g.rename(times)\n",
    "        \n",
    "    for n in g.nodes:\n",
    "        explored[n] = False\n",
    "        \n",
    "    for i in sorted(g.nodes,reverse=True):#range(len(g.adj),0,-1):\n",
    "        if not explored[i]:\n",
    "            s = i\n",
    "            DFS(g,i)    \n",
    "    \n",
    "    counts = {}\n",
    "    for n in leader:\n",
    "        if leader[n] not in counts:\n",
    "            counts[leader[n]] = 1\n",
    "        else:\n",
    "            counts[leader[n]] += 1\n",
    "    \n",
    "    counts = {k: v for k, v in sorted(counts.items(), key=lambda x: x[1])}\n",
    "    counts = [v for k,v in counts.items()][::-1]\n",
    "    counts = counts[:20]\n",
    "    return counts    "
   ]
  },
  {
   "cell_type": "code",
   "execution_count": 16,
   "id": "d37f9e6c-111c-476f-a039-978dc0dd3921",
   "metadata": {},
   "outputs": [],
   "source": [
    "f = open('SCC_test1.txt','r')\n",
    "lines = f.readlines()\n",
    "lines = [l.strip('\\n').strip() for l in lines if l!='\\n']\n",
    "nodes = {}\n",
    "for l in lines:#[:100000]:\n",
    "    line = l.split()\n",
    "    if int(line[0]) not in nodes:\n",
    "        nodes[int(line[0])] = []\n",
    "    for n in line[1:]:\n",
    "        nodes[int(line[0])].append(int(n))"
   ]
  },
  {
   "cell_type": "code",
   "execution_count": 17,
   "id": "4dbc819a-5a0d-48a6-ab38-0cef3fecbc4b",
   "metadata": {},
   "outputs": [],
   "source": [
    "g = Graph(nodes)\n",
    "#g.adj = nodes"
   ]
  },
  {
   "cell_type": "code",
   "execution_count": 18,
   "id": "db3d936c-b636-4947-ac97-0e876bfc5533",
   "metadata": {},
   "outputs": [],
   "source": [
    "gnx = nx.DiGraph()\n",
    "for u in g.adj:\n",
    "    for v in g.adj[u]:\n",
    "        gnx.add_edge(u,v)\n",
    "#nx.draw(gnx,with_labels=False)\n",
    "#plt.show()"
   ]
  },
  {
   "cell_type": "code",
   "execution_count": 19,
   "id": "99c8ae0e-c478-4292-9255-2f66292d95b7",
   "metadata": {},
   "outputs": [
    {
     "data": {
      "text/plain": [
       "'\\ngnx_rev = nx.DiGraph()\\ng.reverse()\\nfor u in g.rev_adj:\\n    for v in g.rev_adj[u]:\\n        gnx_rev.add_edge(u,v)\\nnx.draw(gnx_rev,with_labels=False)\\nplt.show()\\n'"
      ]
     },
     "execution_count": 19,
     "metadata": {},
     "output_type": "execute_result"
    }
   ],
   "source": [
    "'''\n",
    "gnx_rev = nx.DiGraph()\n",
    "g.reverse()\n",
    "for u in g.rev_adj:\n",
    "    for v in g.rev_adj[u]:\n",
    "        gnx_rev.add_edge(u,v)\n",
    "nx.draw(gnx_rev,with_labels=False)\n",
    "plt.show()\n",
    "'''"
   ]
  },
  {
   "cell_type": "code",
   "execution_count": 20,
   "id": "4102b743-fcdb-4bf8-a057-7966b36c85ed",
   "metadata": {},
   "outputs": [
    {
     "name": "stdout",
     "output_type": "stream",
     "text": [
      "[3, 3, 3]\n"
     ]
    }
   ],
   "source": [
    "import sys, threading\n",
    "sys.setrecursionlimit(800000)\n",
    "threading.stack_size(67108864)\n",
    "def main():\n",
    "    print(SCCs(g)[:20])\n",
    "    \n",
    "thread = threading.Thread(target=main)\n",
    "thread.start()    "
   ]
  },
  {
   "cell_type": "code",
   "execution_count": 21,
   "id": "0f1fd93d-cb53-47ec-b4e7-8523a0652335",
   "metadata": {},
   "outputs": [],
   "source": [
    "#SCCs(g)"
   ]
  },
  {
   "cell_type": "code",
   "execution_count": 22,
   "id": "dc332634-bc22-40d1-87be-40ede60cb9d8",
   "metadata": {},
   "outputs": [],
   "source": [
    "comps = nx.algorithms.components.strongly_connected_components(gnx)"
   ]
  },
  {
   "cell_type": "code",
   "execution_count": 23,
   "id": "6eb040f9-0a29-4cb4-9dc7-29692be97bb9",
   "metadata": {},
   "outputs": [
    {
     "data": {
      "text/plain": [
       "[3, 3, 3]"
      ]
     },
     "execution_count": 23,
     "metadata": {},
     "output_type": "execute_result"
    }
   ],
   "source": [
    "[len(c) for c in sorted(comps, key=len, reverse=True)][:20]"
   ]
  }
 ],
 "metadata": {
  "kernelspec": {
   "display_name": "Python 3 (ipykernel)",
   "language": "python",
   "name": "python3"
  },
  "language_info": {
   "codemirror_mode": {
    "name": "ipython",
    "version": 3
   },
   "file_extension": ".py",
   "mimetype": "text/x-python",
   "name": "python",
   "nbconvert_exporter": "python",
   "pygments_lexer": "ipython3",
   "version": "3.9.4"
  }
 },
 "nbformat": 4,
 "nbformat_minor": 5
}
