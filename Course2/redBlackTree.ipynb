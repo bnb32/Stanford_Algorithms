{
 "cells": [
  {
   "cell_type": "code",
   "execution_count": 6,
   "id": "8d7a08d5-e55f-4f7b-82f2-2a284dd22802",
   "metadata": {},
   "outputs": [],
   "source": [
    "#!pip install plotly\n",
    "#import plotly\n",
    "#import matplotlib.pyplot as plt\n",
    "import matplotlib.pyplot as plt\n",
    "import networkx as nx\n",
    "import pydot\n",
    "from networkx.drawing.nx_pydot import graphviz_layout\n",
    "import numpy as np"
   ]
  },
  {
   "cell_type": "code",
   "execution_count": 7,
   "id": "bc647923-a105-4ffd-bedc-183c89cdf4d7",
   "metadata": {},
   "outputs": [],
   "source": [
    "#!pip install pydot\n",
    "#!pip install graphviz\n",
    "#!pip install pydot-ng"
   ]
  },
  {
   "cell_type": "code",
   "execution_count": 266,
   "id": "5318d681-5fc5-4bad-aae3-ed8d27912a09",
   "metadata": {},
   "outputs": [],
   "source": [
    "class node:\n",
    "    def __init__(self,key='',item='',red=False):\n",
    "        self.left = None\n",
    "        self.right = None\n",
    "        self.parent = None \n",
    "        self.key = key\n",
    "        self.item = item\n",
    "        self.red = red\n",
    "        \n",
    "class entry:\n",
    "    def __init__(self,key='',item='',red=False):\n",
    "        self.key = key\n",
    "        self.item = item\n",
    "        self.red = red\n",
    "        \n",
    "class RBT:\n",
    "    def __init__(self):\n",
    "        self.root = None\n",
    "        self.entries = []\n",
    "    \n",
    "    def getentries(self,root):\n",
    "        if root:\n",
    "            self.getentries(root.left)\n",
    "            self.entries.append(entry(key=root.key,item=root.item))\n",
    "            self.getentries(root.right)\n",
    "    \n",
    "    def balance(self):\n",
    "        self.entries = []\n",
    "        self.getentries(self.root)\n",
    "        self.root = None\n",
    "        self.construct(self.entries)\n",
    "    \n",
    "    def construct(self,entries):\n",
    "        if len(entries)<=2:\n",
    "            for e in entries:\n",
    "                self.push(e)\n",
    "            return\n",
    "        else:\n",
    "            self.push(entries[len(entries)//2])\n",
    "            self.construct(entries[:len(entries)//2])\n",
    "            self.construct(entries[len(entries)//2+1:])\n",
    "    \n",
    "    def insert(self,root,entry):\n",
    "        if root is None:\n",
    "            root = node(key=entry.key,item=entry.item,red=entry.red)\n",
    "        else:\n",
    "            if entry.key == root.key:\n",
    "                root.item = entry.item\n",
    "            elif entry.key < root.key:\n",
    "                root.left = self.insert(root.left,entry)\n",
    "                root.left.parent = root\n",
    "            else:\n",
    "                root.right = self.insert(root.right,entry)\n",
    "                root.right.parent = root\n",
    "        return root\n",
    "    \n",
    "    def push(self,entry):\n",
    "        self.root = self.insert(self.root,entry)\n",
    "        \n",
    "    def min(self,root):\n",
    "        node = root\n",
    "        while node.left is not None:\n",
    "            node = node.left\n",
    "        return node\n",
    "    \n",
    "    def max(self,root):\n",
    "        node = root\n",
    "        while node.right is not None:\n",
    "            node = node.right\n",
    "        return node\n",
    "    \n",
    "    def inorder(self,root):\n",
    "        if root:\n",
    "            self.inorder(root.left)\n",
    "            print(root.key)\n",
    "            self.inorder(root.right)\n",
    "    \n",
    "    def height(self,node):\n",
    "        if node is None:\n",
    "            return 0\n",
    "        else:\n",
    "            lheight = self.height(node.left)\n",
    "            rheight = self.height(node.right)\n",
    " \n",
    "            if lheight > rheight:\n",
    "                return lheight+1\n",
    "            else:\n",
    "                return rheight+1\n",
    "    \n",
    "    def printLevelOrder(self):\n",
    "        h = self.height(self.root)\n",
    "        for i in range(1, h+1):\n",
    "            self.printCurrentLevel(self.root, i)\n",
    " \n",
    " \n",
    "    def printCurrentLevel(self,root,level):\n",
    "        if root is None:\n",
    "            return\n",
    "        if level == 1:\n",
    "            print(root.key,end=\" \")\n",
    "        elif level > 1:\n",
    "            self.printCurrentLevel(root.left,level-1)\n",
    "            self.printCurrentLevel(root.right,level-1)\n",
    "            \n",
    "    def delete(self,key=None,root=None):\n",
    "        if key is not None:\n",
    "            node = self.getnode(self.root,key)\n",
    "            if node is None: return\n",
    "        else:\n",
    "            node = root            \n",
    "        if node.left is None and node.right is None:\n",
    "            if node.key > node.parent.key:\n",
    "                node.parent.right = None\n",
    "            else:\n",
    "                node.parent.left = None\n",
    "        elif node.left is None:\n",
    "            node.key = node.right.key\n",
    "            node.item = node.right.item\n",
    "            node.right = None\n",
    "        elif node.right is None:\n",
    "            node.key = node.left.key\n",
    "            node.item = node.left.item\n",
    "            node.left = None\n",
    "        else:\n",
    "            n2 = self.predecessor(root=node,key=node.key)\n",
    "            self.swap(node,n2)\n",
    "            self.delete(root=n2)\n",
    "            \n",
    "    \n",
    "    def predecessor(self,root=None,prec=None,key=None):\n",
    "\n",
    "        if root is None:\n",
    "            return None\n",
    "\n",
    "        if root.key == key:\n",
    "            if root.left:\n",
    "                return self.max(root.left)\n",
    "\n",
    "        elif key < root.key:\n",
    "            return self.predecessor(root.left, prec, key)\n",
    "\n",
    "        else:\n",
    "            prec = root\n",
    "            return self.predecessor(root.right, prec, key)\n",
    " \n",
    "        return prec\n",
    "\n",
    "    def successor(self,root=None,suc=None,key=None):\n",
    "\n",
    "        if root is None:\n",
    "            return None\n",
    "\n",
    "        if root.key == key:\n",
    "            if root.right:\n",
    "                return self.min(root.right)\n",
    "\n",
    "        elif key > root.key:\n",
    "            return self.successor(root.right, suc, key)\n",
    "\n",
    "        else:\n",
    "            suc = root\n",
    "            return self.successor(root.left, suc, key)\n",
    " \n",
    "        return suc\n",
    "    \n",
    "    def getnode(self,root,key):\n",
    "        if key == root.key:\n",
    "            return root\n",
    "        elif key < root.key:\n",
    "            if root.left is not None:\n",
    "                return self.getnode(root.left,key)\n",
    "            else:\n",
    "                return None\n",
    "        else:\n",
    "            if root.right is not None:\n",
    "                return self.getnode(root.right,key)\n",
    "            else:\n",
    "                return None\n",
    "    \n",
    "    def swap(self,n1,n2):\n",
    "        e1 = entry(item=n1.item,key=n1.key,red=n1.red)\n",
    "        e2 = entry(item=n2.item,key=n2.key,red=n2.red)\n",
    "        n1.item = e2.item\n",
    "        n1.key = e2.key\n",
    "        n1.red = e2.red\n",
    "        n2.item = e1.item\n",
    "        n2.key = e1.key\n",
    "        n2.red = e1.red\n"
   ]
  },
  {
   "cell_type": "code",
   "execution_count": 256,
   "id": "e33e0cae-64f8-40ae-8bb9-aafb2d1ed2da",
   "metadata": {},
   "outputs": [],
   "source": [
    "arr = [8,12,5,3,2,4,7,6,10,9,11,17,13]"
   ]
  },
  {
   "cell_type": "code",
   "execution_count": 257,
   "id": "682335ca-12b2-468b-a622-52e4138c1c57",
   "metadata": {},
   "outputs": [],
   "source": [
    "tree = binarySearchTree()    "
   ]
  },
  {
   "cell_type": "code",
   "execution_count": 258,
   "id": "8a68ee2b-30ec-49fe-baba-aac8da9b8bac",
   "metadata": {},
   "outputs": [],
   "source": [
    "for a in arr:\n",
    "    tree.push(entry(a))"
   ]
  },
  {
   "cell_type": "code",
   "execution_count": 259,
   "id": "a41772fe-fbfb-4c4a-a756-28ac82e9b2e8",
   "metadata": {},
   "outputs": [],
   "source": [
    "g = nx.DiGraph()\n",
    "def traverse(node):\n",
    "    if node:\n",
    "        traverse(node.left)\n",
    "        if node.parent:\n",
    "            g.add_edge(node.parent.key,node.key)\n",
    "        traverse(node.right)\n",
    "traverse(tree.root)        "
   ]
  },
  {
   "cell_type": "code",
   "execution_count": 261,
   "id": "4411ad84-57d0-4531-ba3d-c853ce65f1c1",
   "metadata": {},
   "outputs": [
    {
     "data": {
      "image/png": "[encoded data removed]",
      "text/plain": [
       "<Figure size 432x288 with 1 Axes>"
      ]
     },
     "metadata": {},
     "output_type": "display_data"
    }
   ],
   "source": [
    "pos = graphviz_layout(g, prog=\"dot\")\n",
    "nx.draw(g, pos, with_labels=True)\n",
    "plt.show()"
   ]
  },
  {
   "cell_type": "code",
   "execution_count": 263,
   "id": "bf4dda4b-f377-4f9f-9c86-15f0afe1d451",
   "metadata": {},
   "outputs": [
    {
     "data": {
      "image/png": "[encoded data removed]",
      "text/plain": [
       "<Figure size 432x288 with 1 Axes>"
      ]
     },
     "metadata": {},
     "output_type": "display_data"
    }
   ],
   "source": [
    "tree.delete(8)\n",
    "\n",
    "g = nx.DiGraph()\n",
    "def traverse(node):\n",
    "    if node:\n",
    "        traverse(node.left)\n",
    "        if node.parent:\n",
    "            g.add_edge(node.parent.key,node.key)\n",
    "        traverse(node.right)\n",
    "traverse(tree.root)\n",
    "pos = graphviz_layout(g, prog=\"dot\")\n",
    "nx.draw(g, pos, with_labels=True)\n",
    "plt.show()"
   ]
  },
  {
   "cell_type": "code",
   "execution_count": 264,
   "id": "eec81e12-6ebd-4613-9aab-8b49aab62478",
   "metadata": {},
   "outputs": [
    {
     "data": {
      "image/png": "[encoded data removed]",
      "text/plain": [
       "<Figure size 432x288 with 1 Axes>"
      ]
     },
     "metadata": {},
     "output_type": "display_data"
    }
   ],
   "source": [
    "tree.delete(12)\n",
    "\n",
    "g = nx.DiGraph()\n",
    "def traverse(node):\n",
    "    if node:\n",
    "        traverse(node.left)\n",
    "        if node.parent:\n",
    "            g.add_edge(node.parent.key,node.key)\n",
    "        traverse(node.right)\n",
    "traverse(tree.root)\n",
    "pos = graphviz_layout(g, prog=\"dot\")\n",
    "nx.draw(g, pos, with_labels=True)\n",
    "plt.show()"
   ]
  },
  {
   "cell_type": "code",
   "execution_count": null,
   "id": "f25cef5a-b837-4887-b461-9563f8de493d",
   "metadata": {},
   "outputs": [],
   "source": []
  }
 ],
 "metadata": {
  "kernelspec": {
   "display_name": "Python 3 (ipykernel)",
   "language": "python",
   "name": "python3"
  },
  "language_info": {
   "codemirror_mode": {
    "name": "ipython",
    "version": 3
   },
   "file_extension": ".py",
   "mimetype": "text/x-python",
   "name": "python",
   "nbconvert_exporter": "python",
   "pygments_lexer": "ipython3",
   "version": "3.9.4"
  }
 },
 "nbformat": 4,
 "nbformat_minor": 5
}
